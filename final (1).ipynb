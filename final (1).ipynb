{
 "cells": [
  {
   "cell_type": "code",
   "execution_count": 1,
   "id": "6f88463c-a8bc-46ce-a9ad-9aa83b3f9137",
   "metadata": {},
   "outputs": [
    {
     "name": "stdout",
     "output_type": "stream",
     "text": [
      "Requirement already satisfied: textblob in c:\\users\\kksan\\anaconda3\\lib\\site-packages (0.19.0)\n",
      "Requirement already satisfied: nltk>=3.9 in c:\\users\\kksan\\anaconda3\\lib\\site-packages (from textblob) (3.9.1)\n",
      "Requirement already satisfied: click in c:\\users\\kksan\\anaconda3\\lib\\site-packages (from nltk>=3.9->textblob) (8.1.7)\n",
      "Requirement already satisfied: joblib in c:\\users\\kksan\\anaconda3\\lib\\site-packages (from nltk>=3.9->textblob) (1.4.2)\n",
      "Requirement already satisfied: regex>=2021.8.3 in c:\\users\\kksan\\anaconda3\\lib\\site-packages (from nltk>=3.9->textblob) (2024.9.11)\n",
      "Requirement already satisfied: tqdm in c:\\users\\kksan\\anaconda3\\lib\\site-packages (from nltk>=3.9->textblob) (4.66.5)\n",
      "Requirement already satisfied: colorama in c:\\users\\kksan\\anaconda3\\lib\\site-packages (from click->nltk>=3.9->textblob) (0.4.6)\n",
      "Finished.\n"
     ]
    },
    {
     "name": "stderr",
     "output_type": "stream",
     "text": [
      "[nltk_data] Downloading package brown to\n",
      "[nltk_data]     C:\\Users\\kksan\\AppData\\Roaming\\nltk_data...\n",
      "[nltk_data]   Package brown is already up-to-date!\n",
      "[nltk_data] Downloading package punkt_tab to\n",
      "[nltk_data]     C:\\Users\\kksan\\AppData\\Roaming\\nltk_data...\n",
      "[nltk_data]   Package punkt_tab is already up-to-date!\n",
      "[nltk_data] Downloading package wordnet to\n",
      "[nltk_data]     C:\\Users\\kksan\\AppData\\Roaming\\nltk_data...\n",
      "[nltk_data]   Package wordnet is already up-to-date!\n",
      "[nltk_data] Downloading package averaged_perceptron_tagger_eng to\n",
      "[nltk_data]     C:\\Users\\kksan\\AppData\\Roaming\\nltk_data...\n",
      "[nltk_data]   Package averaged_perceptron_tagger_eng is already up-to-\n",
      "[nltk_data]       date!\n",
      "[nltk_data] Downloading package conll2000 to\n",
      "[nltk_data]     C:\\Users\\kksan\\AppData\\Roaming\\nltk_data...\n",
      "[nltk_data]   Package conll2000 is already up-to-date!\n",
      "[nltk_data] Downloading package movie_reviews to\n",
      "[nltk_data]     C:\\Users\\kksan\\AppData\\Roaming\\nltk_data...\n",
      "[nltk_data]   Package movie_reviews is already up-to-date!\n"
     ]
    }
   ],
   "source": [
    "!pip install -U textblob\n",
    "!python -m textblob.download_corpora"
   ]
  },
  {
   "cell_type": "code",
   "execution_count": 1,
   "id": "d3bb0d0a-0188-428d-b1ab-d1469f07a5e6",
   "metadata": {},
   "outputs": [],
   "source": [
    "import seaborn as sns\n",
    "import matplotlib.pyplot as plt\n",
    "import altair as alt\n",
    "import pandas as pd\n",
    "import json\n",
    "from collections import defaultdict \n",
    "from textblob import TextBlob\n",
    "import re\n",
    "import plotly.express as px\n",
    "\n",
    "#############################################################################\n",
    "# Step1 : data preprocessing\n",
    "\n",
    "\n",
    "def decontracted(phrase):\n",
    "    # specific\n",
    "    phrase = re.sub(r\"won't\", \"will not\", phrase)\n",
    "    phrase = re.sub(r\"can\\'t\", \"can not\", phrase)\n",
    "\n",
    "    # general\n",
    "    phrase = re.sub(r\"n\\'t\", \" not\", phrase)\n",
    "    phrase = re.sub(r\"\\'re\", \" are\", phrase)\n",
    "    phrase = re.sub(r\"\\'s\", \" is\", phrase)\n",
    "    phrase = re.sub(r\"\\'d\", \" would\", phrase)\n",
    "    phrase = re.sub(r\"\\'ll\", \" will\", phrase)\n",
    "    phrase = re.sub(r\"\\'t\", \" not\", phrase)\n",
    "    phrase = re.sub(r\"\\'ve\", \" have\", phrase)\n",
    "    phrase = re.sub(r\"\\'m\", \" am\", phrase)\n",
    "    phrase = re.sub(r\" v\", \" very\", phrase)\n",
    "    return phrase\n",
    "\n",
    "reviewerID =[]\n",
    "productID = []\n",
    "reviewerName=[]\n",
    "liked_and_seen = []\n",
    "reviewText = []\n",
    "rating = []\n",
    "summary = []\n",
    "unixTime = []\n",
    "date = []"
   ]
  },
  {
   "cell_type": "code",
   "execution_count": 2,
   "id": "352afc5f-0568-49bf-a8ff-5d02df2d1fd6",
   "metadata": {},
   "outputs": [],
   "source": [
    "with open(r\"C:\\Users\\kksan\\Downloads\\Cell_Phones_and_Accessories_5.json\") as json_data:\n",
    "    d = json.load(json_data)\n",
    "    d = d[0:300]\n",
    "\n",
    "for i in range(len(d)):\n",
    "    reviewText.append(decontracted(d[i]['reviewText']))\n",
    "    rating.append(d[i]['overall'])\n",
    "    reviewerID.append(d[i]['reviewerID'])\n",
    "    productID.append(d[i]['asin'])\n",
    "#    reviewerName.append(d[i]['reviewerName'])\n",
    "    liked_and_seen.append(d[i]['helpful'])\n",
    "    summary.append(d[i]['summary'])\n",
    "    unixTime.append(d[i]['unixReviewTime'])\n",
    "    date.append(d[i]['reviewTime'])"
   ]
  },
  {
   "cell_type": "code",
   "execution_count": 3,
   "id": "dc064d01-32a3-40c9-9190-55e47611d620",
   "metadata": {},
   "outputs": [],
   "source": [
    "# create  dataset\n",
    "from pandas import DataFrame\n",
    "dataset = DataFrame({'reviewerID': reviewerID, 'productID': productID, 'liked_and_seen': liked_and_seen, 'reviewText': reviewText, 'rating': rating, 'summary': summary, 'unixTime': unixTime, 'date': date})\n"
   ]
  },
  {
   "cell_type": "code",
   "execution_count": 4,
   "id": "5ace7a47-b7b6-4074-8f72-49961871883c",
   "metadata": {},
   "outputs": [
    {
     "name": "stderr",
     "output_type": "stream",
     "text": [
      "[nltk_data] Downloading package stopwords to\n",
      "[nltk_data]     C:\\Users\\kksan\\AppData\\Roaming\\nltk_data...\n",
      "[nltk_data]   Package stopwords is already up-to-date!\n"
     ]
    }
   ],
   "source": [
    "#cleaning unwanted symbols\n",
    "#cleaning unwanted symbols\n",
    "import nltk\n",
    "from nltk.corpus import stopwords\n",
    "nltk.download('stopwords')\n",
    "\n",
    "comment_dict = defaultdict(list)\n",
    "for i in range(len(dataset)):\n",
    "    sentence = re.sub('[^a-zA-Z.]',' ',dataset['reviewText'][i])\n",
    "    sentence = sentence.lower()\n",
    "    sentence = sentence.split('.')\n",
    "    for k in range(len(sentence)):\n",
    "        review = sentence[k].split()\n",
    "        review = [word for word in review if not word in set(stopwords.words('english'))]\n",
    "        sentence[k] =  ' '.join(review)\n",
    "        comment_dict[i].append(sentence[k])"
   ]
  },
  {
   "cell_type": "code",
   "execution_count": 5,
   "id": "9d9b3407-404f-471b-bb39-337b29311507",
   "metadata": {},
   "outputs": [],
   "source": [
    "#delete unwanted '' words\n",
    "for j in range(len(comment_dict)):\n",
    "    comment_dict[j] = [comment_dict[j][i] for i in range(len(comment_dict[j])) if comment_dict[j][i] not in '']\n",
    "\n",
    "for i in range(len(comment_dict)):\n",
    "    reviewText[i] = ('. '.join(comment_dict[i][j] for j in range(len(comment_dict[i]))))"
   ]
  },
  {
   "cell_type": "code",
   "execution_count": 6,
   "id": "69845fd9-ed85-4389-bb7b-cd983457c6d9",
   "metadata": {},
   "outputs": [],
   "source": [
    "# spelling correction\n",
    "for i in range(len(reviewText)):\n",
    "    b = TextBlob(reviewText[i])\n",
    "    reviewText[i] = b.correct()\n",
    "    \n",
    "dataset_corrected= DataFrame({'reviewerID': reviewerID, 'productID': productID, 'liked_and_seen': liked_and_seen, 'reviewText': reviewText, 'rating': rating, 'summary': summary, 'unixTime': unixTime, 'date': date})"
   ]
  },
  {
   "cell_type": "code",
   "execution_count": 7,
   "id": "c1cd1287-c935-4f73-b725-9d03124dd0d0",
   "metadata": {},
   "outputs": [],
   "source": [
    " \n",
    "# creating corpus\n",
    "corpus = defaultdict(set)\n",
    "for i in range(len(reviewText)):\n",
    "    wiki = reviewText[i]\n",
    "    corpus[i] = wiki.sentences\n",
    "            \n",
    "corpus_key = corpus.keys()\n",
    "corpus_list = defaultdict(list)\n",
    "\n",
    "for i in corpus_key:\n",
    "    for j in range(len(corpus[i])):\n",
    "        word = ' '.join(corpus[i][j].words)\n",
    "        corpus_list[i].append(word)"
   ]
  },
  {
   "cell_type": "code",
   "execution_count": 8,
   "id": "67ca9016-210b-4b9d-bff0-6cd78bd59a28",
   "metadata": {},
   "outputs": [],
   "source": [
    "####################################################################################    \n",
    "import numpy as np\n",
    "# Step 2: adding biwords and triwords for generating patterns\n",
    "\n",
    "length = defaultdict(list)\n",
    "for i in corpus_key:\n",
    "    length[i] = list(corpus_list[i])\n",
    "\n",
    "# triwords       \n",
    "for i in corpus_key:\n",
    "    for j in range(len(length[i])):\n",
    "        text = TextBlob(length[i][j])\n",
    "        text = text.ngrams(n=3)\n",
    "        for k in range(len(text)):\n",
    "            triword = [' '.join([text[k][l] for l in range(len(text[k]))])]\n",
    "            triword = triword[0]\n",
    "            corpus_list[i].append(triword)\n",
    "#biwords\n",
    "for i in corpus_key:\n",
    "    for j in range(len(length[i])):\n",
    "        text = TextBlob(length[i][j])\n",
    "        text = text.ngrams(n=2)\n",
    "        for k in range(len(text)):\n",
    "            triword = [' '.join([text[k][l] for l in range(len(text[k]))])]\n",
    "            triword = triword[0]\n",
    "            corpus_list[i].append(triword)"
   ]
  },
  {
   "cell_type": "code",
   "execution_count": 9,
   "id": "9a92325e-e0ad-4a0e-bd92-d007c4d29997",
   "metadata": {},
   "outputs": [],
   "source": [
    "# corpus_list creates a list of all Opinion Words present in review text\n",
    "# here the corpus contains sentences, biwords and triwords from review \n",
    "# Also here only matched text is used\n",
    "####################################################################################    \n",
    "# Step 3: Part-of-speech Tagging \n",
    "\n",
    "pos_dict = defaultdict(list)\n",
    "for i in corpus_key:\n",
    "    for j in range(len(corpus_list[i])):\n",
    "        text = TextBlob(corpus_list[i][j])\n",
    "        text = text.tags\n",
    "        pos_dict[i].append(text)\n",
    "\n",
    "pos_dict_key = pos_dict.keys()\n",
    "\n",
    "corpus_noun = defaultdict(list)\n",
    "for i in pos_dict_key:\n",
    "    for j in range(len(pos_dict[i])):\n",
    "        for k in range(len(pos_dict[i][j])):\n",
    "            if(pos_dict[i][j][k][1] == 'NN'):\n",
    "                corpus_noun[i].append(pos_dict[i][j][k])"
   ]
  },
  {
   "cell_type": "code",
   "execution_count": 10,
   "id": "096d2bf8-f0a3-4c80-a7bd-d3f7f19eeefc",
   "metadata": {},
   "outputs": [],
   "source": [
    "pattern1 = defaultdict(list)\n",
    "for i in pos_dict_key:\n",
    "    for j in range(len(pos_dict[i])):\n",
    "        if len(pos_dict[i][j]) == 2:\n",
    "            first_pos = pos_dict[i][j][0][1]\n",
    "            second_pos = pos_dict[i][j][1][1]\n",
    "            if first_pos == 'JJ' and second_pos in ['NN', 'NNS']:\n",
    "                pattern1[i].append(pos_dict[i][j])\n"
   ]
  },
  {
   "cell_type": "code",
   "execution_count": 11,
   "id": "a49abaf5-8561-4a0f-b1cd-73215cbd6954",
   "metadata": {},
   "outputs": [],
   "source": [
    "pattern2 = defaultdict(list)\n",
    "for i in pos_dict_key:\n",
    "    for j in range(len(pos_dict[i])):\n",
    "        if len(pos_dict[i][j]) == 3:\n",
    "            first_pos = pos_dict[i][j][0][1]\n",
    "            second_pos = pos_dict[i][j][1][1]\n",
    "            third_pos = pos_dict[i][j][2][1]\n",
    "            if first_pos == 'JJ' and (second_pos, third_pos) in [('NN', 'NN'), ('NN', 'NNS'), ('NNS', 'NN'), ('NNS', 'NNS')]:\n",
    "                pattern2[i].append(pos_dict[i][j])\n"
   ]
  },
  {
   "cell_type": "code",
   "execution_count": 12,
   "id": "340162e0-79a4-4c6b-86f1-9cae8374262e",
   "metadata": {},
   "outputs": [],
   "source": [
    "pattern3 = defaultdict(list)\n",
    "for i in pos_dict_key:\n",
    "    for j in range(len(pos_dict[i])):\n",
    "        if len(pos_dict[i][j]) == 2:\n",
    "            first_pos = pos_dict[i][j][0][1]\n",
    "            second_pos = pos_dict[i][j][1][1]\n",
    "            if first_pos in ['RB', 'RBR', 'RBS'] and second_pos == 'JJ':\n",
    "                pattern3[i].append(pos_dict[i][j])\n"
   ]
  },
  {
   "cell_type": "code",
   "execution_count": 13,
   "id": "ed7bccef-cf4d-4c83-9d26-5c2d7af0a5b4",
   "metadata": {},
   "outputs": [],
   "source": [
    "pattern4 = defaultdict(list)\n",
    "for i in pos_dict_key:\n",
    "    for j in range(len(pos_dict[i])):\n",
    "        if len(pos_dict[i][j]) == 3:\n",
    "            first_pos = pos_dict[i][j][0][1]\n",
    "            second_pos = pos_dict[i][j][1][1]\n",
    "            third_pos = pos_dict[i][j][2][1]\n",
    "            \n",
    "            if first_pos in ['RB', 'RBR', 'RBS'] and second_pos in ['RB', 'RBR', 'RBS', 'JJ'] and third_pos in ['NN', 'NNS']:\n",
    "                pattern4[i].append(pos_dict[i][j])\n"
   ]
  },
  {
   "cell_type": "code",
   "execution_count": 14,
   "id": "173d5bdd-bea2-4a26-ba0b-71cf0ceef62f",
   "metadata": {},
   "outputs": [],
   "source": [
    "pattern5 = defaultdict(list)\n",
    "for i in pos_dict_key:\n",
    "    for j in range(len(pos_dict[i])):\n",
    "        if len(pos_dict[i][j]) == 2:\n",
    "            first_pos = pos_dict[i][j][0][1]\n",
    "            second_pos = pos_dict[i][j][1][1]\n",
    "            if first_pos in ['RB', 'RBR', 'RBS'] and second_pos in ['VBN', 'VBD']:\n",
    "                pattern5[i].append(pos_dict[i][j])\n"
   ]
  },
  {
   "cell_type": "code",
   "execution_count": 15,
   "id": "9eff78cd-6494-422f-81c2-e92c3e97ad7f",
   "metadata": {},
   "outputs": [],
   "source": [
    "pattern6 = defaultdict(list)\n",
    "for i in pos_dict_key:\n",
    "    for j in range(len(pos_dict[i])):\n",
    "        if len(pos_dict[i][j]) == 3:\n",
    "            first_pos = pos_dict[i][j][0][1]\n",
    "            second_pos = pos_dict[i][j][1][1]\n",
    "            third_pos = pos_dict[i][j][2][1]\n",
    "            \n",
    "            if first_pos in ['RB', 'RBR', 'RBS'] and second_pos in ['RB', 'RBR', 'RBS'] and third_pos == 'JJ':\n",
    "                pattern6[i].append(pos_dict[i][j])\n"
   ]
  },
  {
   "cell_type": "code",
   "execution_count": 16,
   "id": "74c14db5-b09e-458b-9432-f0d78f1ac636",
   "metadata": {},
   "outputs": [],
   "source": [
    "pattern7 = defaultdict(list)\n",
    "for i in pos_dict_key:\n",
    "    for j in range(len(pos_dict[i])):\n",
    "        if len(pos_dict[i][j]) == 2:\n",
    "            first_pos = pos_dict[i][j][0][1]\n",
    "            second_pos = pos_dict[i][j][1][1]\n",
    "            if first_pos in ['VBN', 'VBD'] and second_pos in ['NN', 'NNS']:\n",
    "                pattern7[i].append(pos_dict[i][j])\n"
   ]
  },
  {
   "cell_type": "code",
   "execution_count": 17,
   "id": "b0c0ac13-0e67-47b2-9998-848b9ddc4a40",
   "metadata": {},
   "outputs": [],
   "source": [
    "pattern8 = defaultdict(list)\n",
    "for i in pos_dict_key:\n",
    "    for j in range(len(pos_dict[i])):\n",
    "        if len(pos_dict[i][j]) == 2:\n",
    "            first_pos = pos_dict[i][j][0][1]\n",
    "            second_pos = pos_dict[i][j][1][1]\n",
    "            if (first_pos in ['VBN', 'VBD']) and (second_pos in ['RB', 'RBR', 'RBS']):\n",
    "                pattern8[i].append(pos_dict[i][j])\n"
   ]
  },
  {
   "cell_type": "code",
   "execution_count": 18,
   "id": "c16713ba-cc62-42b5-9a31-150d00ae1466",
   "metadata": {},
   "outputs": [],
   "source": [
    "pattern = defaultdict(set)\n",
    "pattern.update(pattern1)\n",
    "pattern.update(pattern2)\n",
    "pattern.update(pattern3)\n",
    "pattern.update(pattern4)\n",
    "pattern.update(pattern5)\n",
    "pattern.update(pattern6)\n",
    "pattern.update(pattern7)\n",
    "pattern.update(pattern8)"
   ]
  },
  {
   "cell_type": "code",
   "execution_count": 19,
   "id": "d017c6ef-dc29-476a-9bc1-4bf4b525b440",
   "metadata": {},
   "outputs": [],
   "source": [
    "#select stuff from OT_OW_key\n",
    "####################################################################################\n",
    "# Step 5: Semi- supervised approach creates Opinion Target from stuff.\n",
    "\n",
    "stuff = ['software', 'application', 'service', 'power supply', 'sim card', 'display', \n",
    "         'storage space', 'sensor', 'wireless charging', 'design', 'cpu', 'accessories',\n",
    "         'camera','quality','time','condition','screen','price','case','build','access',\n",
    "         'battery','buy','power','switch','light','design','technology','radio','fashion'\n",
    "'product','charging','feature','touch','profile','car','slot','tables','construction',\n",
    "'period ','system','game','bottom','sound','blackberry charge','price anyone','price extra',\n",
    "'cord length','charge port',' phone','horizon charge','fraction price','charge ','key',\n",
    "'extension','internet','cheap','cover','speaker']"
   ]
  },
  {
   "cell_type": "code",
   "execution_count": 20,
   "id": "d060e3ed-275d-4759-ae0c-5020d290df90",
   "metadata": {},
   "outputs": [],
   "source": [
    "####################################################################################\n",
    "# Step 6: Finding Similar waords of above Opinion Targets\n",
    "\n",
    "from nltk.corpus import wordnet as wn\n",
    "from itertools import chain"
   ]
  },
  {
   "cell_type": "code",
   "execution_count": 21,
   "id": "a2f32e10-81bd-4795-a7c7-712f388d8d60",
   "metadata": {},
   "outputs": [],
   "source": [
    "stuff_OT = defaultdict(set)\n",
    "OT2 = set()\n",
    "\n",
    "synsets_set = defaultdict(set)\n",
    "hyponyms_set = defaultdict(set)"
   ]
  },
  {
   "cell_type": "code",
   "execution_count": 22,
   "id": "a0487429-39cd-4a8a-a2de-2a9c72e0e8e3",
   "metadata": {},
   "outputs": [],
   "source": [
    "for z in range(len(stuff)): \n",
    "    input_word = stuff[z] \n",
    "    OT1= set()    \n",
    "    for i,j in enumerate(wn.synsets(input_word)):\n",
    "    #    print ('Meaning', i, 'NLTK ID: ', j.name())\n",
    "        \n",
    "        hypernyms = ', '.join(list(chain(*[l.lemma_names() for l in j.hypernyms()])))\n",
    "    #    print ('Hypernyms:', hypernyms)\n",
    "        synsets_set[i].add(hypernyms)\n",
    "        \n",
    "        hyponyms = ', '.join(list(chain(*[l.lemma_names() for l in j.hyponyms()])))\n",
    "    #    print ('Hyponyms:', hyponyms)\n",
    "        hyponyms_set[i].add(hyponyms)\n",
    "    #    print() \n",
    "\n",
    "        ho = [hypernyms]\n",
    "        for h in range(len(ho)):\n",
    "            temp_list = ho[h].split(', ')\n",
    "            if(temp_list != ['']):\n",
    "                for l in range(len(temp_list)):\n",
    "                    temp_word = ' '.join(temp_list[l].split('_'))\n",
    "                    OT2.add(temp_word)\n",
    "                    OT1.add(temp_word)\n",
    "        \n",
    "        hy = [hypernyms]\n",
    "        for h in range(len(hy)):\n",
    "            temp_list = hy[h].split(', ')\n",
    "            if(temp_list != ['']):\n",
    "                for l in range(len(temp_list)):\n",
    "                    temp_word = ' '.join(temp_list[l].split('_'))\n",
    "                    OT2.add(temp_word)\n",
    "                    OT1.add(temp_word)\n",
    "    OT1 = list(OT1)\n",
    "    for i in range(len(OT1)):\n",
    "        stuff_OT[stuff[z]].add(OT1[i])"
   ]
  },
  {
   "cell_type": "code",
   "execution_count": 23,
   "id": "23439e0d-920b-419d-8821-f32123ffad3d",
   "metadata": {},
   "outputs": [],
   "source": [
    "# stuff contains Opinion Target and its similar words from wordnet        \n",
    "####################################################################################\n",
    "\n",
    "hyponyms_set_keys = hyponyms_set.keys()\n",
    "synsets_set_keys = synsets_set.keys()"
   ]
  },
  {
   "cell_type": "code",
   "execution_count": 24,
   "id": "b3c7cd7a-0f63-4879-a1b2-374e0a3f1caa",
   "metadata": {},
   "outputs": [],
   "source": [
    "for z in range(len(stuff)):  \n",
    "    \n",
    "    for k in hyponyms_set_keys:\n",
    "        hy = hyponyms_set[k]\n",
    "        hy = list(hy)\n",
    "        for h in range(len(hy)):\n",
    "            temp_list = hy[h].split(', ')\n",
    "            if(temp_list != ['']):\n",
    "                for l in range(len(temp_list)):\n",
    "                    temp_word = ' '.join(temp_list[l].split('_'))\n",
    "                    OT2.add(temp_word)"
   ]
  },
  {
   "cell_type": "code",
   "execution_count": 25,
   "id": "f5d6dcb7-9ce3-455e-b17b-a81339c89b5f",
   "metadata": {},
   "outputs": [],
   "source": [
    "for z in range(len(stuff)):    \n",
    "    for k in synsets_set_keys:\n",
    "        hy = synsets_set[k]\n",
    "        hy = list(hy)\n",
    "        for h in range(len(hy)):\n",
    "            temp_list = hy[h].split(', ')\n",
    "            if(temp_list != ['']):\n",
    "                for l in range(len(temp_list)):\n",
    "                    temp_word = ' '.join(temp_list[l].split('_'))\n",
    "                    OT2.add(temp_word)"
   ]
  },
  {
   "cell_type": "code",
   "execution_count": 26,
   "id": "8522c1d2-cc8d-4d85-8e5f-768ac3d6c566",
   "metadata": {},
   "outputs": [],
   "source": [
    "OT2 = list(OT2)\n",
    "list_of_subset = defaultdict(set)"
   ]
  },
  {
   "cell_type": "code",
   "execution_count": 27,
   "id": "e1788600-7a6c-4de2-832a-e8772e7cf08d",
   "metadata": {},
   "outputs": [],
   "source": [
    "for i in range(len(stuff)):\n",
    "    stuff_OT[stuff[i]] = list(stuff_OT[stuff[i]])\n",
    "    for j in range(len(stuff_OT[stuff[i]])):\n",
    "        list_of_subset[i].add(stuff[i])\n",
    "        list_of_subset[i].add(stuff_OT[stuff[i]][j])"
   ]
  },
  {
   "cell_type": "code",
   "execution_count": 28,
   "id": "3332e62f-f06d-4d91-bff2-f2ff80f019f1",
   "metadata": {},
   "outputs": [],
   "source": [
    "for i in list_of_subset.keys():\n",
    "    list_of_subset[i] = list(list_of_subset[i])"
   ]
  },
  {
   "cell_type": "code",
   "execution_count": 29,
   "id": "5421a724-089f-45ca-a550-916f026b55fb",
   "metadata": {},
   "outputs": [],
   "source": [
    "list_of_subset2 =[]\n",
    "for i in range(len(stuff)):\n",
    "    list_of_subset2.append(stuff[i])\n",
    "\n",
    "for i in list_of_subset.keys():\n",
    "    for j in range(len(list_of_subset[i])):\n",
    "        list_of_subset2.append(list_of_subset[i][j])\n",
    "\n",
    "stuff = list_of_subset2"
   ]
  },
  {
   "cell_type": "code",
   "execution_count": 30,
   "id": "672a17ac-bf5b-4982-bcca-f49d221c168c",
   "metadata": {},
   "outputs": [],
   "source": [
    "#######################################################################################\n",
    "# Step 7: Finding Opinion Words of above Opinion Target(Stuff + its similar words.)\n",
    "#         from pattern generated in step 3.\n",
    "\n",
    "OW = defaultdict(set)\n",
    "OT = defaultdict(set)\n",
    "OT_OW = defaultdict(set)\n",
    "OW_OT = defaultdict(set)"
   ]
  },
  {
   "cell_type": "code",
   "execution_count": 31,
   "id": "dd679493-240d-4fdb-881a-ed2867e5a126",
   "metadata": {},
   "outputs": [],
   "source": [
    "# it has 1 OW\n",
    "pattern1_OT_OW =  defaultdict(set)\n",
    "pattern1_OW_OT =  defaultdict(set)\n",
    "p1_keys = pattern1.keys()\n",
    "for i in p1_keys:\n",
    "    if( pattern1[i] != []):\n",
    "        for j in range(len(pattern1[i])):\n",
    "            OT[i].add(pattern1[i][j][1][0])\n",
    "            OW[i].add(pattern1[i][j][0][0])\n",
    "            if(pattern1[i][j][1][0] in stuff):\n",
    "                OT_OW[pattern1[i][j][1][0]].add(pattern1[i][j][0][0])\n",
    "                OW_OT[pattern1[i][j][0][0]].add(pattern1[i][j][1][0])\n",
    "                \n",
    "                pattern1_OT_OW[pattern1[i][j][1][0]].add(pattern1[i][j][0][0])\n",
    "                pattern1_OW_OT[pattern1[i][j][0][0]].add(pattern1[i][j][1][0])"
   ]
  },
  {
   "cell_type": "code",
   "execution_count": 32,
   "id": "9e2de46f-f998-4075-abd7-689bbc4b405d",
   "metadata": {},
   "outputs": [],
   "source": [
    "#it has 1 OW             \n",
    "pattern2_OT_OW = defaultdict(set)\n",
    "pattern2_OW_OT = defaultdict(set)\n",
    "p2_keys = pattern2.keys()\n",
    "for i in p2_keys:\n",
    "    if( pattern2[i] != []):\n",
    "        for j in range(len(pattern2[i])):    \n",
    "            target = pattern2[i][j][1][0] + \" \" + pattern2[i][j][2][0]\n",
    "            OT[i].add(target)\n",
    "            OW[i].add(pattern2[i][j][0][0])\n",
    "            if(pattern2[i][j][1][0] in stuff or pattern2[i][j][2][0] in stuff or target in stuff):\n",
    "                OT_OW[target].add(pattern2[i][j][0][0])\n",
    "                OW_OT[pattern2[i][j][0][0]].add(target)\n",
    "            \n",
    "                pattern2_OT_OW[target].add(pattern2[i][j][0][0])\n",
    "                pattern2_OW_OT[pattern2[i][j][0][0]].add(target)"
   ]
  },
  {
   "cell_type": "code",
   "execution_count": 33,
   "id": "db51a894-606a-48c8-9ecf-851f5086efa2",
   "metadata": {},
   "outputs": [],
   "source": [
    "# dont filter here\n",
    "# it has 2 OW pretty, good we use only pretty good combination\n",
    "pattern3_OW_OT = defaultdict(set)       \n",
    "p3_keys = pattern3.keys()\n",
    "for i in p3_keys:\n",
    "    if( pattern3[i] != []):\n",
    "        for j in range(len(pattern3[i])):    \n",
    "            target = pattern3[i][j][0][0] + \" \" + pattern3[i][j][1][0]\n",
    "            OW[i].add(target)\n",
    "\n",
    "            OW_OT[target].add('NO Opinion Target found')\n",
    "            \n",
    "            pattern3_OW_OT[target].add('NO Opinion Target found')"
   ]
  },
  {
   "cell_type": "code",
   "execution_count": 34,
   "id": "359e9c7f-c858-4c01-b129-894d4381036f",
   "metadata": {},
   "outputs": [],
   "source": [
    "# we use near much, near, much word combinations in OW here\n",
    "pattern4_OT_OW = defaultdict(set)         \n",
    "pattern4_OW_OT = defaultdict(set)  \n",
    "p4_keys = pattern4.keys()\n",
    "for i in p4_keys:\n",
    "    if( pattern4[i] != []):\n",
    "        for j in range(len(pattern4[i])):    \n",
    "            word = pattern4[i][j][0][0] + \" \" + pattern4[i][j][1][0] \n",
    "            OT[i].add(pattern4[i][j][2][0])\n",
    "            OW[i].add(word)\n",
    "            if(pattern4[i][j][2][0] in stuff):\n",
    "                OT_OW[pattern4[i][j][2][0]].add(word)\n",
    "                \n",
    "                OW_OT[word].add(pattern4[i][j][2][0])\n",
    "                \n",
    "                pattern4_OT_OW[pattern4[i][j][2][0]].add(word)\n",
    "                \n",
    "                pattern4_OW_OT[word].add(pattern4[i][j][2][0])"
   ]
  },
  {
   "cell_type": "code",
   "execution_count": 35,
   "id": "9459a2c1-ea2c-4291-a8d9-adb89e7d0639",
   "metadata": {},
   "outputs": [],
   "source": [
    "# dont filter here            \n",
    "pattern5_OW_OT = defaultdict(set)           \n",
    "p5_keys = pattern5.keys()\n",
    "for i in p5_keys:\n",
    "    if( pattern5[i] != []):\n",
    "        for j in range(len(pattern5[i])):    \n",
    "            target = pattern5[i][j][0][0] + ' ' + pattern5[i][j][1][0]\n",
    "            OW[i].add(target)\n",
    "            OW_OT[target].add('No Opinion Target found')\n",
    "            \n",
    "            pattern5_OW_OT[target].add('No Opinion Target found')"
   ]
  },
  {
   "cell_type": "code",
   "execution_count": 36,
   "id": "f6492c1f-d3fa-4f49-965c-7b210207d339",
   "metadata": {},
   "outputs": [],
   "source": [
    "# dont filter here\n",
    "pattern6_OW_OT = defaultdict(set)\n",
    "p6_keys = pattern6.keys()\n",
    "for i in p6_keys:\n",
    "    if( pattern6[i] != []):\n",
    "        for j in range(len(pattern6[i])):    \n",
    "            target = pattern6[i][j][0][0] + \" \" + pattern6[i][j][2][0]\n",
    "            OW[i].add(target)\n",
    "            OW_OT[target].add('NO Opinion Target found')\n",
    "            \n",
    "            pattern6_OW_OT[target].add('NO Opinion Target found')"
   ]
  },
  {
   "cell_type": "code",
   "execution_count": 37,
   "id": "6f08f3da-021d-4036-b37e-0e56ca227025",
   "metadata": {},
   "outputs": [],
   "source": [
    "pattern7_OW_OT = defaultdict(set)\n",
    "pattern7_OT_OW = defaultdict(set)\n",
    "p7_keys = pattern7.keys()\n",
    "for i in p7_keys:\n",
    "    if( pattern7[i] != []):\n",
    "        for j in range(len(pattern7[i])):    \n",
    "            target = pattern7[i][j][1][0]\n",
    "            OT[i].add(target)\n",
    "            OW[i].add(pattern7[i][j][0][0])\n",
    "            \n",
    "            if(target in stuff):\n",
    "                OW_OT[pattern7[i][j][0][0]].add(target)\n",
    "                OT_OW[target].add(pattern7[i][j][0][0])\n",
    "                \n",
    "                pattern7_OW_OT[pattern7[i][j][0][0]].add(target)\n",
    "                pattern7_OT_OW[target].add(pattern7[i][j][0][0])"
   ]
  },
  {
   "cell_type": "code",
   "execution_count": 38,
   "id": "ddb25f87-a11c-496e-b58b-2c3184a9cda0",
   "metadata": {},
   "outputs": [],
   "source": [
    "# dont filter here\n",
    "pattern_8_OW_OT = defaultdict(set)\n",
    "p8_keys = pattern8.keys()\n",
    "for i in p8_keys:\n",
    "    if( pattern8[i] != []):\n",
    "        for j in range(len(pattern8[i])):    \n",
    "            target = pattern8[i][j][1][0]\n",
    "            \n",
    "            OW[i].add(target)\n",
    "            OW_OT[target].add('No Opinion Target found')\n",
    "            pattern_8_OW_OT[target].add('No Opinion Target found')"
   ]
  },
  {
   "cell_type": "code",
   "execution_count": 39,
   "id": "08de3e7a-ee82-40af-860d-39dcf510f3d7",
   "metadata": {},
   "outputs": [],
   "source": [
    "################################################################################            \n",
    "# Step 8: Finding similar Words of above Opinion Words.\n",
    "            \n",
    "OW_OT_key = OW_OT.keys()\n",
    "OW_list = list(OW_OT_key)"
   ]
  },
  {
   "cell_type": "code",
   "execution_count": 40,
   "id": "03cf391c-7a18-4250-b302-81c631c8eaf8",
   "metadata": {},
   "outputs": [],
   "source": [
    "from nltk.corpus import wordnet as wn\n",
    "from itertools import chain\n",
    "\n",
    "stuff_OW = defaultdict(set)\n",
    "OW2 = set()\n",
    "\n",
    "synsets_set = defaultdict(set)\n",
    "hyponyms_set = defaultdict(set)"
   ]
  },
  {
   "cell_type": "code",
   "execution_count": 41,
   "id": "c08fe971-044e-411f-b00e-1cecce8f6f90",
   "metadata": {},
   "outputs": [],
   "source": [
    "for z in range(len(OW_list)): \n",
    "    input_word = OW_list[z] \n",
    "    OW1= set()    \n",
    "    for i,j in enumerate(wn.synsets(input_word)):\n",
    "    #    print ('Meaning', i, 'NLTK ID: ', j.name())\n",
    "        \n",
    "        hypernyms = ', '.join(list(chain(*[l.lemma_names() for l in j.hypernyms()])))\n",
    "    #    print ('Hypernyms:', hypernyms)\n",
    "        synsets_set[i].add(hypernyms)\n",
    "        \n",
    "        hyponyms = ', '.join(list(chain(*[l.lemma_names() for l in j.hyponyms()])))\n",
    "    #    print ('Hyponyms:', hyponyms)\n",
    "        hyponyms_set[i].add(hyponyms)\n",
    "    #    print() \n",
    "\n",
    "        ho = [hypernyms]\n",
    "        for h in range(len(ho)):\n",
    "            temp_list = ho[h].split(', ')\n",
    "            if(temp_list != ['']):\n",
    "                for l in range(len(temp_list)):\n",
    "                    temp_word = ' '.join(temp_list[l].split('_'))\n",
    "                    OW2.add(temp_word)\n",
    "                    OW1.add(temp_word)\n",
    "        \n",
    "        hy = [hypernyms]\n",
    "        for h in range(len(hy)):\n",
    "            temp_list = hy[h].split(', ')\n",
    "            if(temp_list != ['']):\n",
    "                for l in range(len(temp_list)):\n",
    "                    temp_word = ' '.join(temp_list[l].split('_'))\n",
    "                    OW2.add(temp_word)\n",
    "                    OW1.add(temp_word)\n",
    "    OW1 = list(OW1)\n",
    "    for i in range(len(OW1)):\n",
    "        stuff_OW[OW_list[z]].add(OW1[i])"
   ]
  },
  {
   "cell_type": "code",
   "execution_count": 42,
   "id": "594e3bae-9e9f-4b01-b870-579dba142bd6",
   "metadata": {},
   "outputs": [],
   "source": [
    "hyponyms_set_keys = hyponyms_set.keys()\n",
    "synsets_set_keys = synsets_set.keys()"
   ]
  },
  {
   "cell_type": "code",
   "execution_count": 43,
   "id": "95ecdcf2-18ad-4867-9283-de67dabe01ea",
   "metadata": {},
   "outputs": [],
   "source": [
    "for z in range(len(OW_list)):    \n",
    "    for k in hyponyms_set_keys:\n",
    "        hy = hyponyms_set[k]\n",
    "        hy = list(hy)\n",
    "        for h in range(len(hy)):\n",
    "            temp_list = hy[h].split(', ')\n",
    "            if(temp_list != ['']):\n",
    "                for l in range(len(temp_list)):\n",
    "                    temp_word = ' '.join(temp_list[l].split('_'))\n",
    "                    OW2.add(temp_word)"
   ]
  },
  {
   "cell_type": "code",
   "execution_count": 44,
   "id": "e989812c-8f9c-4206-a995-7a869e302316",
   "metadata": {},
   "outputs": [],
   "source": [
    "for z in range(len(OW_list)):    \n",
    "    for k in synsets_set_keys:\n",
    "        hy = synsets_set[k]\n",
    "        hy = list(hy)\n",
    "        for h in range(len(hy)):\n",
    "            temp_list = hy[h].split(', ')\n",
    "            if(temp_list != ['']):\n",
    "                for l in range(len(temp_list)):\n",
    "                    temp_word = ' '.join(temp_list[l].split('_'))\n",
    "                    OW2.add(temp_word)\n",
    "                    "
   ]
  },
  {
   "cell_type": "code",
   "execution_count": 45,
   "id": "b498ec87-8882-4f30-b070-b9a49e584a4d",
   "metadata": {},
   "outputs": [],
   "source": [
    "OW_concept = []\n",
    "OW2 = list(OW2)"
   ]
  },
  {
   "cell_type": "code",
   "execution_count": 46,
   "id": "b61c6b8f-ea0f-4204-9f0d-a0c23e5ae49d",
   "metadata": {},
   "outputs": [],
   "source": [
    "for i in range(len(OW2)):\n",
    "    if(OW2[i] != ''):\n",
    "        OW_concept.append(OW2[i])\n",
    "        \n",
    "for i in range(len(OW_list)):\n",
    "    OW_concept.append(OW_list[i])"
   ]
  },
  {
   "cell_type": "code",
   "execution_count": 47,
   "id": "d1d22ead-d392-4062-8bec-226a06895ea8",
   "metadata": {},
   "outputs": [],
   "source": [
    "# Here OW_concept creates a list of all similar Opinion words of Opinion words generated from pattern\n",
    "#####################################################################################\n",
    "# Step 9: Finding Opinion Weight of above similar Opinion Words ( from testimonial.sentiment.polarity )\n",
    "\n",
    "OW_OT = OW_concept                   \n",
    "OW_OT_key = OW_OT\n",
    "OT_OW_key = OT_OW.keys()\n",
    "\n",
    "OW_in_corpus = defaultdict(set)"
   ]
  },
  {
   "cell_type": "code",
   "execution_count": 48,
   "id": "aa815129-21ad-46ff-ab90-0b0e89fac748",
   "metadata": {},
   "outputs": [],
   "source": [
    "for i in corpus.keys():\n",
    "    for j in range(len(corpus[i])):\n",
    "        word = corpus[i][j].words\n",
    "        for k in range(len(word)):\n",
    "            if( word[k] in OW_OT_key):\n",
    "              OW_in_corpus[i].add(word[k])"
   ]
  },
  {
   "cell_type": "code",
   "execution_count": 49,
   "id": "d4615c2d-9737-4b22-83e8-256435aecd22",
   "metadata": {},
   "outputs": [],
   "source": [
    "for i in OW_in_corpus.keys():\n",
    "    OW_in_corpus[i] = list(OW_in_corpus[i]) "
   ]
  },
  {
   "cell_type": "code",
   "execution_count": 50,
   "id": "fa9d7679-7146-4eb2-b6ac-e4655766e5e7",
   "metadata": {},
   "outputs": [],
   "source": [
    "testimonial_sentiment = defaultdict(list)\n",
    "testimonial_sentiment_polarity = defaultdict(list)\n"
   ]
  },
  {
   "cell_type": "code",
   "execution_count": 51,
   "id": "981924eb-ffd1-48d5-8bc7-70847106b7d1",
   "metadata": {},
   "outputs": [],
   "source": [
    "for i in OW_in_corpus.keys():\n",
    "    for j in range(len(OW_in_corpus[i])):\n",
    "        testimonial = TextBlob(OW_in_corpus[i][j])\n",
    "        testimonial_sentiment[OW_in_corpus[i][j]].append(testimonial.sentiment)\n",
    "        testimonial_sentiment_polarity[OW_in_corpus[i][j]].append(testimonial.sentiment.polarity)"
   ]
  },
  {
   "cell_type": "code",
   "execution_count": 52,
   "id": "05eec555-f502-4df2-8fb2-49098ffa0070",
   "metadata": {},
   "outputs": [],
   "source": [
    "OW_in_corpus_list = defaultdict(list)\n",
    "OW_in_corpus_value = defaultdict(list)"
   ]
  },
  {
   "cell_type": "code",
   "execution_count": 53,
   "id": "b88f731b-0e67-415e-992f-bcddb58eb23e",
   "metadata": {},
   "outputs": [],
   "source": [
    "for i in OW_in_corpus.keys():\n",
    "    for j in range(len(OW_in_corpus[i])):\n",
    "        word = [OW_in_corpus[i][j]]\n",
    "#        for k in range(len(word)):\n",
    "        if(word[0] in testimonial_sentiment_polarity.keys()):\n",
    "            polarity = testimonial_sentiment_polarity[word[0]]\n",
    "            OW_in_corpus_value[i].append(polarity[0])\n",
    "            OW_in_corpus_list[i].append(word[0])"
   ]
  },
  {
   "cell_type": "code",
   "execution_count": 54,
   "id": "94a3d549-d659-47b7-8382-aac22cc95e57",
   "metadata": {},
   "outputs": [],
   "source": [
    "dictionary1 = dict()\n",
    "dictionary2 = dict()\n",
    "key_value_pair = defaultdict(list)"
   ]
  },
  {
   "cell_type": "code",
   "execution_count": 55,
   "id": "cba37329-8e97-46b4-9968-38888f7d26fc",
   "metadata": {},
   "outputs": [],
   "source": [
    "for i in range(len(OW_in_corpus_list)):\n",
    "    for j in range(len(OW_in_corpus_list[i])):\n",
    "#        dictionary1[OW_in_corpus_value[i][j]] = OW_in_corpus_list[i][j]\n",
    "        dictionary2[ OW_in_corpus_list[i][j]] = OW_in_corpus_value[i][j]  "
   ]
  },
  {
   "cell_type": "code",
   "execution_count": 56,
   "id": "536e79f2-87f0-4478-8cf7-d26a0886c2e9",
   "metadata": {},
   "outputs": [],
   "source": [
    "################################################################################################\n",
    "# Step 10: Creating Words and its score in tuple_word_score                \n",
    "\n",
    "score = defaultdict(list)\n",
    "words = OW_in_corpus_list\n",
    "OW_in_corpus_value_key = OW_in_corpus_value.keys()\n",
    "for i in OW_in_corpus_value_key:\n",
    "    for j in range(len(OW_in_corpus_value[i])):\n",
    "        score[i].append(OW_in_corpus_value[i][j])\n",
    "                \n",
    "tuple_word_score = defaultdict(list)\n",
    "for i in OW_in_corpus_value_key:\n",
    "    for j in range(len(OW_in_corpus_value[i])):\n",
    "        tuple_word_score[i].append((words[i][j], score[i][j]))\n",
    "        \n",
    "Opinion_Words = tuple_word_score\n",
    "\n",
    "list_Opinion_Words = []\n",
    "for i in range(len(Opinion_Words)):\n",
    "    list_Opinion_Words.append(Opinion_Words[i])"
   ]
  },
  {
   "cell_type": "code",
   "execution_count": 57,
   "id": "fa6278ff-3cdd-4aa3-b7af-161887e1dd3c",
   "metadata": {},
   "outputs": [],
   "source": [
    "################################################################################################\n",
    "# Step 11: Finding Maximum scored words.                \n",
    "\n",
    "max_abs_score = defaultdict(list)\n",
    "for i in range(len(tuple_word_score)):\n",
    "    maxx = 0\n",
    "    for j in range(len(tuple_word_score[i])):\n",
    "        temp = abs(tuple_word_score[i][j][1])\n",
    "        if(temp > maxx):\n",
    "            maxx = abs(tuple_word_score[i][j][1])\n",
    "            maxx_word = tuple_word_score[i][j][0]\n",
    "    max_abs_score[i].append((maxx_word, maxx))"
   ]
  },
  {
   "cell_type": "code",
   "execution_count": 58,
   "id": "ee4459b1-c523-4233-a963-9798d815fdce",
   "metadata": {},
   "outputs": [],
   "source": [
    "##################################################\n",
    "\n",
    "maxx_OW_value = defaultdict(set)\n",
    "for i in range(len(max_abs_score)):\n",
    "    maxx_OW_value[max_abs_score[i][0][0]].add(max_abs_score[i][0][1])\n",
    "    \n",
    "New_OW = maxx_OW_value.keys()"
   ]
  },
  {
   "cell_type": "code",
   "execution_count": 59,
   "id": "61fe96c6-a257-4d78-b575-e31a3a213ff6",
   "metadata": {},
   "outputs": [],
   "source": [
    "################################################\n",
    "# step11: Collecting important opinion words.\n",
    "\n",
    "list_max_abs_score = []\n",
    "for i in range(len(max_abs_score)):\n",
    "    list_max_abs_score.append(max_abs_score[i])"
   ]
  },
  {
   "cell_type": "code",
   "execution_count": 60,
   "id": "c063f68a-ece5-427f-9003-2ad2e6a0c344",
   "metadata": {},
   "outputs": [],
   "source": [
    "##########Searching######################################\n",
    "# step12: Searching it again\n",
    "\n",
    "OW_in_corpus2 = defaultdict(set)\n",
    "for i in range(len(corpus)):\n",
    "    for j in range(len(corpus[i])):\n",
    "        word = corpus[i][j].words\n",
    "        for k in range(len(word)):\n",
    "            if( word[k] in New_OW):\n",
    "              OW_in_corpus2[i].add(word[k])"
   ]
  },
  {
   "cell_type": "code",
   "execution_count": 61,
   "id": "14ce254c-f315-40ba-b66f-dec26bc2feae",
   "metadata": {},
   "outputs": [],
   "source": [
    "for i in OW_in_corpus2.keys():\n",
    "    OW_in_corpus2[i] = list(OW_in_corpus2[i]) "
   ]
  },
  {
   "cell_type": "code",
   "execution_count": 62,
   "id": "6859956a-66f9-43e1-afe8-294d96dd0816",
   "metadata": {},
   "outputs": [],
   "source": [
    "             \n",
    "testimonial_sentiment = defaultdict(list)\n",
    "testimonial_sentiment_polarity = defaultdict(list)\n"
   ]
  },
  {
   "cell_type": "code",
   "execution_count": 63,
   "id": "2ebfe819-2fa1-4c4d-9874-4c2964944e52",
   "metadata": {},
   "outputs": [],
   "source": [
    "for i in OW_in_corpus2.keys():\n",
    "    for j in range(len(OW_in_corpus2[i])):\n",
    "        testimonial = TextBlob(OW_in_corpus2[i][j])\n",
    "        testimonial_sentiment[OW_in_corpus2[i][j]].append(testimonial.sentiment)\n",
    "        testimonial_sentiment_polarity[OW_in_corpus2[i][j]].append(testimonial.sentiment.polarity)\n"
   ]
  },
  {
   "cell_type": "code",
   "execution_count": 64,
   "id": "827fbe3c-41f0-4d44-916d-f31a3bff2145",
   "metadata": {},
   "outputs": [],
   "source": [
    "OW_in_corpus_list = defaultdict(list)\n",
    "OW_in_corpus_value = defaultdict(list)"
   ]
  },
  {
   "cell_type": "code",
   "execution_count": 65,
   "id": "88991869-211c-432d-8731-c62540818aef",
   "metadata": {},
   "outputs": [],
   "source": [
    "for i in OW_in_corpus2.keys():\n",
    "    for j in range(len(OW_in_corpus2[i])):\n",
    "        word = [OW_in_corpus2[i][j]]\n",
    "#        for k in range(len(word)):\n",
    "        if(word[0] in testimonial_sentiment_polarity.keys()):\n",
    "            polarity = testimonial_sentiment_polarity[word[0]]\n",
    "            OW_in_corpus_value[i].append(polarity[0])\n",
    "            OW_in_corpus_list[i].append(word[0])\n"
   ]
  },
  {
   "cell_type": "code",
   "execution_count": 66,
   "id": "54fa5973-ef46-45d1-b6ec-240f56b6d477",
   "metadata": {},
   "outputs": [],
   "source": [
    "dictionary1 = dict()\n",
    "dictionary2 = dict()\n",
    "key_value_pair = defaultdict(list)"
   ]
  },
  {
   "cell_type": "code",
   "execution_count": 67,
   "id": "1e5fb310-20bf-462c-a67d-bd4e6f5cc5f7",
   "metadata": {},
   "outputs": [],
   "source": [
    "for i in range(len(OW_in_corpus_list)):\n",
    "    for j in range(len(OW_in_corpus_list[i])):\n",
    "#        dictionary1[OW_in_corpus_value[i][j]] = OW_in_corpus_list[i][j]\n",
    "        dictionary2[ OW_in_corpus_list[i][j]] = OW_in_corpus_value[i][j]  \n"
   ]
  },
  {
   "cell_type": "code",
   "execution_count": 68,
   "id": "a958860e-774a-4a3e-89c5-09caaaf29fb6",
   "metadata": {},
   "outputs": [],
   "source": [
    "# OW_in_corpus_value indicates the polarity score of opinion word\n",
    "###############################################################################\n",
    "import numpy as np\n",
    "              \n",
    "score = defaultdict(list)\n",
    "words = OW_in_corpus_list\n",
    "OW_in_corpus_value_key = OW_in_corpus_value.keys()\n",
    "for i in OW_in_corpus_value_key:\n",
    "    for j in range(len(OW_in_corpus_value[i])):\n",
    "        score[i].append(OW_in_corpus_value[i][j])"
   ]
  },
  {
   "cell_type": "code",
   "execution_count": 69,
   "id": "fd45c6c6-e7fe-47ea-8e7c-1b3f059eaaee",
   "metadata": {},
   "outputs": [],
   "source": [
    "tuple_word_score = defaultdict(list)\n",
    "for i in OW_in_corpus_value_key:\n",
    "    for j in range(len(OW_in_corpus_value[i])):\n",
    "        tuple_word_score[i].append((words[i][j], score[i][j]))"
   ]
  },
  {
   "cell_type": "code",
   "execution_count": 70,
   "id": "7e767f70-3ebe-49c5-a578-b930111b9302",
   "metadata": {},
   "outputs": [],
   "source": [
    "##########################################################################\n",
    "\n",
    "\n",
    "final_score = defaultdict(list)\n",
    "for i in range(len(tuple_word_score)):\n",
    "    final_score[i].append(0)\n",
    "    \n",
    "for i in range(len(tuple_word_score)):\n",
    "    for j in range(len(tuple_word_score[i])):\n",
    "        final_score[i].append(tuple_word_score[i][j][1])\n",
    "        \n",
    "final_score = defaultdict(list)"
   ]
  },
  {
   "cell_type": "code",
   "execution_count": 71,
   "id": "dab1e8a8-7be1-4bb8-9844-ec8130a0e842",
   "metadata": {},
   "outputs": [],
   "source": [
    "for i in range(len(tuple_word_score)):\n",
    "    final_score[i].append(0)\n",
    "    \n",
    "for i in range(len(tuple_word_score)):\n",
    "    for j in range(len(tuple_word_score[i])):\n",
    "        final_score[i].append(tuple_word_score[i][j][1])"
   ]
  },
  {
   "cell_type": "code",
   "execution_count": 72,
   "id": "84358b60-b5d5-4224-a61c-07837188e2e9",
   "metadata": {},
   "outputs": [],
   "source": [
    "############################################################################################\n",
    "#Step 13: Creating Average\n",
    "average_score = defaultdict(list)\n",
    "for i in range(len(final_score)):\n",
    "    average_score[i].append(np.mean(final_score[i]))\n",
    "\n",
    "\n",
    "for i in range(len(average_score)):\n",
    "    if(np.isnan(average_score[i]) == True):\n",
    "        average_score[i] = [0]\n",
    "\n",
    "list_average_score = []\n",
    "for i in range(len(average_score)):\n",
    "    list_average_score.append(average_score[i])"
   ]
  },
  {
   "cell_type": "code",
   "execution_count": 73,
   "id": "63f23151-495d-4f4e-8193-755065bfc7d3",
   "metadata": {},
   "outputs": [],
   "source": [
    "############################################################################################\n",
    "    \n",
    "import numpy as np\n",
    "  \n",
    "X_train = []   \n",
    "for i in average_score.keys():\n",
    "    temp = set()\n",
    "    for j in range(len(OW_in_corpus[i])):\n",
    "        temp.add(OW_in_corpus[i][j])\n",
    "    X_train.append(temp)\n",
    "    \n",
    "l = set()\n",
    "for i in range(len(X_train)):\n",
    "    X_train[i] = list (X_train[i])\n",
    "    for j in range(len(X_train[i])):\n",
    "        l.add(X_train[i][j])\n",
    "\n",
    "l =list(l)"
   ]
  },
  {
   "cell_type": "code",
   "execution_count": 74,
   "id": "927476c3-2d77-4e63-8698-5c8bb3741274",
   "metadata": {},
   "outputs": [
    {
     "name": "stderr",
     "output_type": "stream",
     "text": [
      "C:\\Users\\kksan\\AppData\\Local\\Temp\\ipykernel_13732\\879726198.py:9: FutureWarning: ChainedAssignmentError: behaviour will change in pandas 3.0!\n",
      "You are setting values through chained assignment. Currently this works in certain cases, but when using Copy-on-Write (which will become the default behaviour in pandas 3.0) this will never work to update the original DataFrame or Series, because the intermediate object on which we are setting values will behave as a copy.\n",
      "A typical example is when you are setting values in a column of a DataFrame, like:\n",
      "\n",
      "df[\"col\"][row_indexer] = value\n",
      "\n",
      "Use `df.loc[row_indexer, \"col\"] = values` instead, to perform the assignment in a single step and ensure this keeps updating the original `df`.\n",
      "\n",
      "See the caveats in the documentation: https://pandas.pydata.org/pandas-docs/stable/user_guide/indexing.html#returning-a-view-versus-a-copy\n",
      "\n",
      "  da.iloc[m][l[j]] = 1\n"
     ]
    }
   ],
   "source": [
    "import pandas as pd\n",
    "da = pd.DataFrame(columns = l, index = OW_in_corpus.keys(), data = 0)\n",
    "\n",
    "k = list(OW_in_corpus.keys())\n",
    "\n",
    "for m in range(len(k)):\n",
    "    for j in range(len(l)):\n",
    "        if(l[j] in OW_in_corpus[k[m]]):\n",
    "            da.iloc[m][l[j]] = 1\n",
    "\n",
    "X_train = da.iloc[:, 0:]\n",
    "X_train = np.array(X_train)\n",
    "\n",
    "y_train = []\n",
    "for i in average_score.keys():\n",
    "    y_train.append(average_score[i][0])    \n",
    "\n",
    "r = (max(y_train) - min(y_train)) / 4\n",
    "m = min(y_train)\n",
    "\n",
    "y_train = np.array(y_train)\n",
    "\n",
    "y = []\n",
    "for i in range(len(y_train)):\n",
    "    y.append(y_train[i])\n",
    "\n",
    "X = X_train"
   ]
  },
  {
   "cell_type": "code",
   "execution_count": 75,
   "id": "317a0625-85f6-4d09-ab4c-f1ca2f53dbc8",
   "metadata": {},
   "outputs": [
    {
     "data": {
      "text/plain": [
       "array([[0, 0, 0, ..., 0, 0, 0],\n",
       "       [0, 0, 0, ..., 0, 0, 0],\n",
       "       [0, 0, 0, ..., 0, 0, 0],\n",
       "       ...,\n",
       "       [0, 0, 0, ..., 0, 0, 0],\n",
       "       [1, 0, 0, ..., 0, 0, 0],\n",
       "       [0, 0, 0, ..., 0, 0, 0]], dtype=int64)"
      ]
     },
     "execution_count": 75,
     "metadata": {},
     "output_type": "execute_result"
    }
   ],
   "source": [
    "X"
   ]
  },
  {
   "cell_type": "code",
   "execution_count": 76,
   "id": "ab705155-3e73-4342-b664-a7615ec4a6ba",
   "metadata": {},
   "outputs": [],
   "source": [
    "for i in range(len(y)):\n",
    "    if(y[i] <= m):\n",
    "        y[i] = 'Negative'\n",
    "    elif(y[i] <= m+r and y[i] > m):\n",
    "        y[i] = 'Negative'\n",
    "    elif(y[i] <= m+r+r and y[i] > m+r):\n",
    "        y[i] = 'Negative'\n",
    "    elif(y[i] <= m+r+r+r and y[i] > m+r+r):\n",
    "        y[i] = 'Positive'\n",
    "    elif(y[i] <= m+r+r+r+r and y[i] > m+r+r+r):\n",
    "        y[i] = 'Positive'\n",
    "        \n",
    "y_set = defaultdict(list)"
   ]
  },
  {
   "cell_type": "code",
   "execution_count": 77,
   "id": "1b129dca-1aca-443f-9a6d-fa41773a67ec",
   "metadata": {},
   "outputs": [
    {
     "data": {
      "text/plain": [
       "defaultdict(list, {})"
      ]
     },
     "execution_count": 77,
     "metadata": {},
     "output_type": "execute_result"
    }
   ],
   "source": [
    "y_set"
   ]
  },
  {
   "cell_type": "code",
   "execution_count": 78,
   "id": "f578f27f-dd0c-4ade-85d7-641e4d9971fa",
   "metadata": {},
   "outputs": [],
   "source": [
    "key = average_score.keys()\n",
    "key = list(key)\n"
   ]
  },
  {
   "cell_type": "code",
   "execution_count": 79,
   "id": "0bbb4e94-0c3f-4527-9ec0-13c88610e244",
   "metadata": {},
   "outputs": [],
   "source": [
    "for i in range(len(key)):\n",
    "    y_set[key[i]].append(y[i])\n"
   ]
  },
  {
   "cell_type": "code",
   "execution_count": 80,
   "id": "33480b4e-ed70-4945-a81e-4c927716fed3",
   "metadata": {},
   "outputs": [],
   "source": [
    "da['calculated rating'] = [y_set[i] for i in y_set.keys()]"
   ]
  },
  {
   "cell_type": "code",
   "execution_count": 81,
   "id": "e1355529-8868-4130-84bd-643f6d9bc2ef",
   "metadata": {},
   "outputs": [],
   "source": [
    "rev_rate = []\n",
    "rate = dataset['rating']"
   ]
  },
  {
   "cell_type": "code",
   "execution_count": 82,
   "id": "96f03b6e-4d1c-4e5b-a918-0f1688459a01",
   "metadata": {},
   "outputs": [],
   "source": [
    "for i in y_set.keys():\n",
    "    rev_rate.append(rate[i])"
   ]
  },
  {
   "cell_type": "code",
   "execution_count": 83,
   "id": "9890ae76-492c-4e5e-a943-e9848f64d010",
   "metadata": {},
   "outputs": [],
   "source": [
    "for i in range(len(rev_rate)):\n",
    "    if(rev_rate[i] == 1.0):\n",
    "        rev_rate[i] = 'Negative'\n",
    "    elif(rev_rate[i] == 2.0):\n",
    "        rev_rate[i] = 'Negative'\n",
    "    elif(rev_rate[i] == 3.0):\n",
    "        rev_rate[i] = 'Negative'\n",
    "    elif(rev_rate[i] == 4.0):\n",
    "        rev_rate[i] = 'Positive'\n",
    "    elif(rev_rate[i] == 5.0):\n",
    "        rev_rate[i] = 'Positive'"
   ]
  },
  {
   "cell_type": "code",
   "execution_count": 84,
   "id": "fd69a267-33e0-4582-b16b-ba5b43b3f09b",
   "metadata": {},
   "outputs": [],
   "source": [
    "list_tuple_word_score = []\n",
    "for i in range(len(tuple_word_score)):\n",
    "    list_tuple_word_score.append(tuple_word_score[i])"
   ]
  },
  {
   "cell_type": "code",
   "execution_count": 85,
   "id": "ed24d6fd-7617-4432-9757-92f7c26f5977",
   "metadata": {},
   "outputs": [],
   "source": [
    "comparision_dataframe = pd.DataFrame()"
   ]
  },
  {
   "cell_type": "code",
   "execution_count": 86,
   "id": "2fa5055b-a4fc-4bfe-8b07-36c932aa0521",
   "metadata": {},
   "outputs": [],
   "source": [
    "comparision_dataframe['Original Review'] = dataset['reviewText']\n",
    "comparision_dataframe['Opinion Words'] = list_Opinion_Words\n",
    "comparision_dataframe['Maximum scored Opinion Words'] = list_max_abs_score\n",
    "comparision_dataframe['Final Opnion Words'] = list_tuple_word_score\n",
    "comparision_dataframe['Average'] = list_average_score\n",
    "comparision_dataframe['Reviewer Rating'] = rev_rate\n",
    "comparision_dataframe['Calculated rating'] = y"
   ]
  },
  {
   "cell_type": "code",
   "execution_count": 87,
   "id": "60104894-3852-4f3f-9c24-fcf05322c8d6",
   "metadata": {},
   "outputs": [],
   "source": [
    "save = comparision_dataframe.to_csv(sep=',')\n",
    "text_file = open(\"train_file.csv\", \"w\")\n",
    "text_file.write(save)\n",
    "text_file.close()"
   ]
  },
  {
   "cell_type": "code",
   "execution_count": 88,
   "id": "c0d316ed-cf28-41d3-a823-62c2f3d27f01",
   "metadata": {},
   "outputs": [],
   "source": [
    "#######################################################################\n",
    "# Step 14:  Making the Confusion Matrix\n",
    "\n",
    "y = comparision_dataframe['Calculated rating']\n",
    "\n",
    "from sklearn.metrics import confusion_matrix\n",
    "#cm = confusion_matrix(y_test, y_pred)\n",
    "cm = confusion_matrix(rev_rate, y)\n",
    "\n",
    "accuracy = 0"
   ]
  },
  {
   "cell_type": "code",
   "execution_count": 89,
   "id": "f6d714c1-2dda-4193-bbf2-1f989e4f33e6",
   "metadata": {},
   "outputs": [
    {
     "data": {
      "image/png": "[encoded data removed]",
      "text/plain": [
       "<Figure size 640x480 with 2 Axes>"
      ]
     },
     "metadata": {},
     "output_type": "display_data"
    }
   ],
   "source": [
    "from sklearn.metrics import confusion_matrix, ConfusionMatrixDisplay\n",
    "# Create a ConfusionMatrixDisplay object\n",
    "disp = ConfusionMatrixDisplay(confusion_matrix=cm)\n",
    "\n",
    "# Plotting the confusion matrix\n",
    "disp.plot(cmap=plt.cm.Blues)\n",
    "plt.title('Confusion Matrix')\n",
    "plt.xlabel('Predicted Label')\n",
    "plt.ylabel('True Label')\n",
    "plt.show()"
   ]
  },
  {
   "cell_type": "code",
   "execution_count": 90,
   "id": "102116d6-493c-49e6-93d1-038b4fdeac29",
   "metadata": {},
   "outputs": [],
   "source": [
    "for i in range(len(cm)):\n",
    "    for j in range(len(cm)):\n",
    "        if(i == j):\n",
    "            accuracy = accuracy + cm[i][j]\n",
    "accuracy = accuracy/ len(rev_rate) * 100"
   ]
  },
  {
   "cell_type": "code",
   "execution_count": 91,
   "id": "8bcabb6c-3b5d-4f3f-83c8-915468c1e447",
   "metadata": {},
   "outputs": [
    {
     "data": {
      "text/plain": [
       "71.66666666666667"
      ]
     },
     "execution_count": 91,
     "metadata": {},
     "output_type": "execute_result"
    }
   ],
   "source": [
    "accuracy"
   ]
  },
  {
   "cell_type": "code",
   "execution_count": 92,
   "id": "ef47c7a3-0015-443e-8a05-caaa54ae97a8",
   "metadata": {},
   "outputs": [],
   "source": [
    "TP = np.diag(cm)\n",
    "FP = np.sum(cm, axis=0) - TP\n",
    "FN = np.sum(cm, axis=1) - TP"
   ]
  },
  {
   "cell_type": "code",
   "execution_count": 93,
   "id": "ea534e17-b91e-40dc-8d33-2be153dc1c1a",
   "metadata": {},
   "outputs": [],
   "source": [
    "num_classes = len(cm)\n",
    "TN = []"
   ]
  },
  {
   "cell_type": "code",
   "execution_count": 94,
   "id": "e507ea50-8954-419e-8f3b-7e3bcbe496eb",
   "metadata": {},
   "outputs": [],
   "source": [
    "for i in range(num_classes):\n",
    "    temp = np.delete(cm, i, 0)    # delete ith row\n",
    "    temp = np.delete(temp, i, 1)  # delete ith column\n",
    "    TN.append(sum(sum(temp)))"
   ]
  },
  {
   "cell_type": "code",
   "execution_count": 95,
   "id": "6fc65358-6f30-448d-9e43-5e094e2faf2a",
   "metadata": {},
   "outputs": [
    {
     "name": "stdout",
     "output_type": "stream",
     "text": [
      "True\n",
      "True\n"
     ]
    }
   ],
   "source": [
    "    \n",
    "#Let's make a sanity check: for each class, the sum of TP, FP, FN, and TN \n",
    "# must be equal to the size of our test set (here 10,000): \n",
    "#let's confirm that this is indeed the case:\n",
    "    \n",
    "l = len(rev_rate)\n",
    "for i in range(num_classes):\n",
    "    print(TP[i] + FP[i] + FN[i] + TN[i] == l)"
   ]
  },
  {
   "cell_type": "code",
   "execution_count": 96,
   "id": "61424e8f-423c-42cb-a721-3df667b49d66",
   "metadata": {},
   "outputs": [],
   "source": [
    "# link : http://blog.exsilio.com/all/accuracy-precision-recall-f1-score-interpretation-of-performance-measures/\n",
    "\n",
    "precision = TP/(TP+FP)\n",
    "recall = TP/(TP+FN)\n",
    "FScore = 2*(recall * precision) / (recall + precision)\n",
    "\n",
    "DataFrame = pd.DataFrame()\n",
    "DataFrame['precision'] = precision\n",
    "DataFrame['recall'] = recall\n",
    "DataFrame['FScore'] = FScore"
   ]
  },
  {
   "cell_type": "code",
   "execution_count": 97,
   "id": "5dad109e-c1ff-4e2b-bc32-a35552243578",
   "metadata": {},
   "outputs": [
    {
     "name": "stdout",
     "output_type": "stream",
     "text": [
      "0    0.436620\n",
      "1    0.803493\n",
      "Name: precision, dtype: float64\n",
      "0    0.407895\n",
      "1    0.821429\n",
      "Name: recall, dtype: float64\n",
      "0    0.421769\n",
      "1    0.812362\n",
      "Name: FScore, dtype: float64\n"
     ]
    }
   ],
   "source": [
    "print(DataFrame['precision'])\n",
    "print(DataFrame['recall'])\n",
    "print(DataFrame['FScore'])"
   ]
  },
  {
   "cell_type": "code",
   "execution_count": 98,
   "id": "670b760a-48a2-4dd1-9919-878f7b21dd73",
   "metadata": {},
   "outputs": [
    {
     "name": "stdout",
     "output_type": "stream",
     "text": [
      "\n",
      "DataFrame:\n",
      "    precision    recall    FScore\n",
      "0   0.436620  0.407895  0.421769\n",
      "1   0.803493  0.821429  0.812362\n",
      "\n",
      "\n",
      "Confusion Matrix:\n",
      " [[ 31  45]\n",
      " [ 40 184]]\n",
      "\n",
      "\n",
      "Accuracy:  71.66666666666667\n"
     ]
    }
   ],
   "source": [
    "print('\\nDataFrame:\\n', DataFrame)\n",
    "print('\\n\\nConfusion Matrix:\\n', cm)\n",
    "print('\\n\\nAccuracy: ', accuracy)"
   ]
  },
  {
   "cell_type": "code",
   "execution_count": 99,
   "id": "63130628-36a9-4de9-800e-87433d0ac0c0",
   "metadata": {},
   "outputs": [
    {
     "data": {
      "image/png": "[encoded data removed]",
      "text/plain": [
       "<Figure size 1000x600 with 1 Axes>"
      ]
     },
     "metadata": {},
     "output_type": "display_data"
    }
   ],
   "source": [
    "# Plotting\n",
    "plt.figure(figsize=(10, 6))\n",
    "\n",
    "# Plotting each metric\n",
    "plt.plot(DataFrame['precision'], marker='o', label='Precision', color='blue')\n",
    "plt.plot(DataFrame['recall'], marker='o', label='Recall', color='orange')\n",
    "plt.plot(DataFrame['FScore'], marker='o', label='FScore', color='green')\n",
    "\n",
    "# Adding titles and labels\n",
    "plt.title('Precision, Recall, and FScore')\n",
    "plt.xlabel('Index')\n",
    "plt.ylabel('Score')\n",
    "plt.xticks(range(len(DataFrame)))  # Set x-ticks to match the DataFrame index\n",
    "plt.legend()\n",
    "plt.grid()\n",
    "\n",
    "# Show the plot\n",
    "plt.show()"
   ]
  },
  {
   "cell_type": "code",
   "execution_count": 100,
   "id": "5558600d-73db-497d-9a63-50de0a5e374a",
   "metadata": {},
   "outputs": [],
   "source": [
    "###################################################################################################\n",
    "#################################################################################################3\n",
    "# Step 15: Testing\n",
    "\n",
    "New_sentence = \"this phone is gifted to me by my friend.oh my god!!. i am not much impreseed by the sound quality. It isn't the one i expected. i am disappointed by its short term life.\"\n",
    "New_rating = 'Negative'\n",
    "New_sentence = ' This is a wonderful screen touch!! can it get better than this? i am so much excited!!'\n",
    "New_rating = 'Positive'"
   ]
  },
  {
   "cell_type": "code",
   "execution_count": 101,
   "id": "92f82df3-b5bb-4448-b8f9-2d4b277f2ee3",
   "metadata": {},
   "outputs": [],
   "source": [
    "#step 1: pre processing\n",
    "\n",
    "# isn't = is not\n",
    "New_sentence = decontracted(New_sentence)\n"
   ]
  },
  {
   "cell_type": "code",
   "execution_count": 102,
   "id": "33148336-648c-4909-8885-1d7dcff344f4",
   "metadata": {},
   "outputs": [
    {
     "data": {
      "text/plain": [
       "' This is a wonderful screen touch!! can it get better than this? i am so much excited!!'"
      ]
     },
     "execution_count": 102,
     "metadata": {},
     "output_type": "execute_result"
    }
   ],
   "source": [
    "New_sentence"
   ]
  },
  {
   "cell_type": "code",
   "execution_count": 103,
   "id": "9764ade0-f1f3-41af-ad7f-3382cb7aee38",
   "metadata": {},
   "outputs": [],
   "source": [
    "\n",
    "# removed Unwanted symbols, lower case\n",
    "comment_dict2 = defaultdict(list)\n",
    "for i in range(1):\n",
    "    sentence = re.sub('[^a-zA-Z.]',' ', New_sentence)\n",
    "    sentence = sentence.lower()\n",
    "    sentence = sentence.split('.')\n",
    "    for k in range(len(sentence)):\n",
    "        review = sentence[k].split()\n",
    "        review = [word for word in review if not word in set(stopwords.words('english'))]\n",
    "        sentence[k] =  ' '.join(review)\n",
    "        comment_dict2[i].append(sentence[k])"
   ]
  },
  {
   "cell_type": "code",
   "execution_count": 104,
   "id": "44c6505b-25f1-45f7-a30c-3fd3305eb57e",
   "metadata": {},
   "outputs": [
    {
     "data": {
      "text/plain": [
       "defaultdict(list, {0: ['wonderful screen touch get better much excited']})"
      ]
     },
     "execution_count": 104,
     "metadata": {},
     "output_type": "execute_result"
    }
   ],
   "source": [
    "comment_dict2"
   ]
  },
  {
   "cell_type": "code",
   "execution_count": 105,
   "id": "4630d7c7-1baa-4ca1-942e-4526423ce96f",
   "metadata": {},
   "outputs": [],
   "source": [
    "#delete unwanted '' words\n",
    "for j in range(len(comment_dict2)):\n",
    "    comment_dict2[j] = [comment_dict2[j][i] for i in range(len(comment_dict2[j])) if comment_dict2[j][i] not in '']\n",
    "\n",
    "Text = defaultdict(list)\n",
    "for i in range(len(comment_dict2)):\n",
    "    Text[i].append(('. '.join(comment_dict2[i][j] for j in range(len(comment_dict2[i])))))\n"
   ]
  },
  {
   "cell_type": "code",
   "execution_count": 106,
   "id": "d6a45a7d-5587-48a5-810e-b0127aff00ad",
   "metadata": {},
   "outputs": [
    {
     "data": {
      "text/plain": [
       "defaultdict(list, {0: ['wonderful screen touch get better much excited']})"
      ]
     },
     "execution_count": 106,
     "metadata": {},
     "output_type": "execute_result"
    }
   ],
   "source": [
    "Text"
   ]
  },
  {
   "cell_type": "code",
   "execution_count": 107,
   "id": "5622598d-0d2d-42aa-943f-b8d45b2da3fe",
   "metadata": {},
   "outputs": [],
   "source": [
    "# spelling correction\n",
    "for i in range(len(Text)):\n",
    "    b = TextBlob(Text[i][0])\n",
    "    Text[i] = b.correct()\n"
   ]
  },
  {
   "cell_type": "code",
   "execution_count": 108,
   "id": "00fe6723-8694-4b4a-acce-c0b06f0064f2",
   "metadata": {},
   "outputs": [],
   "source": [
    "# creating corpus\n",
    "corpus2 = defaultdict(set)\n",
    "for i in range(len(Text)):\n",
    "    wiki = Text[i]\n",
    "    corpus2[i] = wiki.sentences\n",
    "            \n",
    "corpus_key2 = corpus2.keys()\n",
    "corpus_list2 = defaultdict(list)\n",
    "\n",
    "for i in corpus_key2:\n",
    "    for j in range(len(corpus2[i])):\n",
    "        word = ' '.join(corpus2[i][j].words)\n",
    "        corpus_list2[i].append(word)\n",
    "\n",
    "Text = \"\"\n",
    "for i in range(len(corpus_list2)):\n",
    "    temp = corpus_list2[i]\n",
    "    for j in temp:\n",
    "        Text += str(j) + ' '"
   ]
  },
  {
   "cell_type": "code",
   "execution_count": 109,
   "id": "eb493547-8e02-40ed-8273-bdee3788825c",
   "metadata": {},
   "outputs": [
    {
     "data": {
      "text/plain": [
       "'wonderful screen touch get better much excited '"
      ]
     },
     "execution_count": 109,
     "metadata": {},
     "output_type": "execute_result"
    }
   ],
   "source": [
    "Text"
   ]
  },
  {
   "cell_type": "code",
   "execution_count": 110,
   "id": "a470083a-54b8-44f6-b168-4e0b13b05329",
   "metadata": {},
   "outputs": [],
   "source": [
    "##########################################################################\n",
    "# Step2 of testing : Use OW and find its score\n",
    "        \n",
    "list_max_abs_score = []\n",
    "for i in range(len(max_abs_score)):\n",
    "    list_max_abs_score.append(max_abs_score[i])\n",
    "\n",
    "t = TextBlob(Text)\n",
    "OW_in_corpus22 = defaultdict(set)"
   ]
  },
  {
   "cell_type": "code",
   "execution_count": 111,
   "id": "f47a2251-5def-405e-8b28-8520d2e4119c",
   "metadata": {},
   "outputs": [],
   "source": [
    "for i in range(len(corpus2)):\n",
    "    for j in range(len(corpus2[i])):\n",
    "        word = t.words\n",
    "        for k in range(len(word)):\n",
    "            if( word[k] in New_OW):\n",
    "              OW_in_corpus22[i].add(word[k])"
   ]
  },
  {
   "cell_type": "code",
   "execution_count": 112,
   "id": "f4e9e8af-728c-4f7b-a04f-a21cd54a7f97",
   "metadata": {},
   "outputs": [],
   "source": [
    "for i in OW_in_corpus22.keys():\n",
    "    OW_in_corpus22[i] = list(OW_in_corpus22[i])            \n",
    "              \n",
    "testimonial_sentiment = defaultdict(list)\n",
    "testimonial_sentiment_polarity = defaultdict(list)\n",
    "OW_in_corpus2 = OW_in_corpus22"
   ]
  },
  {
   "cell_type": "code",
   "execution_count": 113,
   "id": "2026b928-381c-49bc-8c39-c5aca8876be8",
   "metadata": {},
   "outputs": [],
   "source": [
    "for i in OW_in_corpus2.keys():\n",
    "    for j in range(len(OW_in_corpus2[i])):\n",
    "        testimonial = TextBlob(OW_in_corpus2[i][j])\n",
    "        testimonial_sentiment[OW_in_corpus2[i][j]].append(testimonial.sentiment)\n",
    "        testimonial_sentiment_polarity[OW_in_corpus2[i][j]].append(testimonial.sentiment.polarity)\n",
    "\n",
    "OW_in_corpus_list = defaultdict(list)\n",
    "OW_in_corpus_value = defaultdict(list)"
   ]
  },
  {
   "cell_type": "code",
   "execution_count": 114,
   "id": "e3923385-61fd-4469-a3fe-71f34eb6d439",
   "metadata": {},
   "outputs": [],
   "source": [
    "for i in OW_in_corpus2.keys():\n",
    "    for j in range(len(OW_in_corpus2[i])):\n",
    "        word = [OW_in_corpus2[i][j]]\n",
    "#        for k in range(len(word)):\n",
    "        if(word[0] in testimonial_sentiment_polarity.keys()):\n",
    "            polarity = testimonial_sentiment_polarity[word[0]]\n",
    "            OW_in_corpus_value[i].append(polarity[0])\n",
    "            OW_in_corpus_list[i].append(word[0])\n",
    "\n",
    "dictionary1 = dict()\n",
    "dictionary2 = dict()"
   ]
  },
  {
   "cell_type": "code",
   "execution_count": 115,
   "id": "69e1c6b5-1fdc-4704-8568-10d3893a2603",
   "metadata": {},
   "outputs": [],
   "source": [
    "key_value_pair = defaultdict(list)\n",
    "for i in range(len(OW_in_corpus_list)):\n",
    "    for j in range(len(OW_in_corpus_list[i])):\n",
    "#        dictionary1[OW_in_corpus_value[i][j]] = OW_in_corpus_list[i][j]\n",
    "        dictionary2[ OW_in_corpus_list[i][j]] = OW_in_corpus_value[i][j]  \n"
   ]
  },
  {
   "cell_type": "code",
   "execution_count": 116,
   "id": "ddade412-d843-44d4-b1f1-9223de410e3c",
   "metadata": {},
   "outputs": [
    {
     "name": "stdout",
     "output_type": "stream",
     "text": [
      "defaultdict(<class 'list'>, {})\n"
     ]
    }
   ],
   "source": [
    "print(key_value_pair)"
   ]
  },
  {
   "cell_type": "code",
   "execution_count": 117,
   "id": "e603245e-3a1d-472e-bb8a-f87f40c4b348",
   "metadata": {},
   "outputs": [],
   "source": [
    "import numpy as np            \n",
    "score = defaultdict(list)\n",
    "words = OW_in_corpus_list\n",
    "OW_in_corpus_value_key = OW_in_corpus_value.keys()\n",
    "for i in OW_in_corpus_value_key:\n",
    "    for j in range(len(OW_in_corpus_value[i])):\n",
    "        score[i].append(OW_in_corpus_value[i][j])\n",
    "       \n",
    "tuple_word_score = defaultdict(list)"
   ]
  },
  {
   "cell_type": "code",
   "execution_count": 118,
   "id": "7bc44bb0-3c14-4f41-a8ec-f512f2d34808",
   "metadata": {},
   "outputs": [
    {
     "name": "stdout",
     "output_type": "stream",
     "text": [
      "defaultdict(<class 'list'>, {})\n"
     ]
    }
   ],
   "source": [
    "print(tuple_word_score)"
   ]
  },
  {
   "cell_type": "code",
   "execution_count": 119,
   "id": "fc2f4b58-ef4e-4a4d-bcd5-5de18944e64e",
   "metadata": {},
   "outputs": [],
   "source": [
    "for i in OW_in_corpus_value_key:\n",
    "    for j in range(len(OW_in_corpus_value[i])):\n",
    "        tuple_word_score[i].append((words[i][j], score[i][j]))\n",
    "\n",
    "final_score = defaultdict(list)"
   ]
  },
  {
   "cell_type": "code",
   "execution_count": 120,
   "id": "3e5f0006-daca-4056-a4df-370ff554b380",
   "metadata": {},
   "outputs": [
    {
     "data": {
      "text/plain": [
       "defaultdict(list, {})"
      ]
     },
     "execution_count": 120,
     "metadata": {},
     "output_type": "execute_result"
    }
   ],
   "source": [
    "final_score"
   ]
  },
  {
   "cell_type": "code",
   "execution_count": 121,
   "id": "dbeb6dc2-88ce-4990-9a64-457b5ad3172a",
   "metadata": {},
   "outputs": [],
   "source": [
    "for i in range(len(tuple_word_score)):\n",
    "    final_score[i].append(0)"
   ]
  },
  {
   "cell_type": "code",
   "execution_count": 122,
   "id": "be8be844-7286-4d2a-b631-47b49afd95bb",
   "metadata": {},
   "outputs": [],
   "source": [
    "for i in range(len(tuple_word_score)):\n",
    "    for j in range(len(tuple_word_score[i])):\n",
    "        final_score[i].append(tuple_word_score[i][j][1])"
   ]
  },
  {
   "cell_type": "code",
   "execution_count": 123,
   "id": "d02d22b3-1b11-4cf7-95d0-59a456e6a16d",
   "metadata": {},
   "outputs": [],
   "source": [
    "final_score = defaultdict(list)\n",
    "for i in range(len(tuple_word_score)):\n",
    "    final_score[i].append(0)\n",
    "    "
   ]
  },
  {
   "cell_type": "code",
   "execution_count": 124,
   "id": "635ab5da-1874-46a4-9121-78381f479066",
   "metadata": {},
   "outputs": [],
   "source": [
    "for i in range(len(tuple_word_score)):\n",
    "    for j in range(len(tuple_word_score[i])):\n",
    "        final_score[i].append(tuple_word_score[i][j][1])\n",
    "\n",
    "average_score = defaultdict(list)"
   ]
  },
  {
   "cell_type": "code",
   "execution_count": 125,
   "id": "e7ceed30-bb7b-4ee3-a016-71ceb86caad0",
   "metadata": {},
   "outputs": [],
   "source": [
    "for i in range(len(final_score)):\n",
    "    average_score[i].append(np.mean(final_score[i]))\n"
   ]
  },
  {
   "cell_type": "code",
   "execution_count": 126,
   "id": "222668ce-3490-4092-9590-4b4f5a526be8",
   "metadata": {},
   "outputs": [],
   "source": [
    "for i in range(len(average_score)):\n",
    "    if(np.isnan(average_score[i]) == True):\n",
    "        average_score[i] = [0]\n",
    "\n",
    "list_avg = []"
   ]
  },
  {
   "cell_type": "code",
   "execution_count": 127,
   "id": "4cd0a116-4c94-4244-8e1f-56f4e8af9f09",
   "metadata": {},
   "outputs": [],
   "source": [
    "for i in range(len(average_score)):\n",
    "    list_avg.append(average_score[i][0])\n",
    "\n",
    "list_tuple_word_score = []"
   ]
  },
  {
   "cell_type": "code",
   "execution_count": 128,
   "id": "32963d5d-ece2-47bd-bc62-8e6dec7761f1",
   "metadata": {},
   "outputs": [],
   "source": [
    "for i in range(len(tuple_word_score)):\n",
    "    list_tuple_word_score.append(tuple_word_score[i])"
   ]
  },
  {
   "cell_type": "code",
   "execution_count": 129,
   "id": "2304d975-fde1-4552-9bea-8948ae913bcf",
   "metadata": {},
   "outputs": [
    {
     "data": {
      "text/plain": [
       "[[('better', 0.5), ('much', 0.2)]]"
      ]
     },
     "execution_count": 129,
     "metadata": {},
     "output_type": "execute_result"
    }
   ],
   "source": [
    "list_tuple_word_score"
   ]
  },
  {
   "cell_type": "code",
   "execution_count": 130,
   "id": "fc19b90c-4a2a-40b7-89e0-4a1578a7c534",
   "metadata": {},
   "outputs": [],
   "source": [
    "###############################################################\n",
    "y_train = []\n",
    "for i in average_score.keys():\n",
    "    y_train.append(average_score[i][0])    \n",
    "\n",
    "y_train = np.array(y_train)\n",
    "\n",
    "y = []\n",
    "for i in range(len(y_train)):\n",
    "    y.append(y_train[i])\n",
    "\n",
    "X = X_train\n"
   ]
  },
  {
   "cell_type": "code",
   "execution_count": 131,
   "id": "03ee8230-23ec-4a5b-aa68-dbdc40a74736",
   "metadata": {},
   "outputs": [],
   "source": [
    "for i in range(len(y)):\n",
    "    if(y[i] <= m):\n",
    "        y[i] = 'Negative'\n",
    "    elif(y[i] <= m+r and y[i] > m):\n",
    "        y[i] = 'Negative'\n",
    "    elif(y[i] <= m+r+r and y[i] > m+r):\n",
    "        y[i] = 'Negative'\n",
    "    elif(y[i] <= m+r+r+r and y[i] > m+r+r):\n",
    "        y[i] = 'Positive'\n",
    "    elif(y[i] <= m+r+r+r+r and y[i] > m+r+r+r):\n",
    "        y[i] = 'Positive'\n",
    "    "
   ]
  },
  {
   "cell_type": "code",
   "execution_count": 132,
   "id": "b95affdb-645b-4a7e-acd9-93887ac7b35f",
   "metadata": {},
   "outputs": [],
   "source": [
    "c_dataframe = pd.DataFrame()\n",
    "c_dataframe['Original Testing Review'] = [New_sentence]\n",
    "c_dataframe['Processed Testing Review'] = [Text]\n",
    "c_dataframe['Opinion Words Obtained'] = list_tuple_word_score\n",
    "c_dataframe['Average of Opinion Words'] = average_score[0]\n",
    "c_dataframe['Original Rating'] = New_rating\n",
    "c_dataframe['Predicted Rating'] = y"
   ]
  },
  {
   "cell_type": "code",
   "execution_count": 133,
   "id": "372fb790-d6ab-453a-8fa6-92858e064c43",
   "metadata": {},
   "outputs": [],
   "source": [
    "###################### Validation by Machine Learning ####################################################################\n",
    "X = X_train\n",
    "y = comparision_dataframe['Calculated rating']\n",
    "# Splitting the dataset into the Training set and Test set\n",
    "from sklearn.model_selection import train_test_split\n",
    "X_train, X_test, y_train, y_test = train_test_split(X, y, test_size = 0.25, random_state = 0)\n",
    "\n",
    "# Feature Scaling\n",
    "from sklearn.preprocessing import StandardScaler\n",
    "sc = StandardScaler()\n",
    "X_train = sc.fit_transform(X_train)\n",
    "X_test = sc.transform(X_test)"
   ]
  },
  {
   "cell_type": "code",
   "execution_count": 134,
   "id": "67b89dfc-90bc-434e-965b-685b31c36c62",
   "metadata": {},
   "outputs": [
    {
     "name": "stdout",
     "output_type": "stream",
     "text": [
      "70.66666666666667\n"
     ]
    }
   ],
   "source": [
    "#####################################################################\n",
    "\n",
    "# Fitting Logistic Regression to the Training set\n",
    "from sklearn.linear_model import LogisticRegression\n",
    "classifier1 = LogisticRegression(random_state = 0)\n",
    "\n",
    "classifier1.fit(X_train, y_train)\n",
    "# Predicting the Test set results\n",
    "y_pred_LR = classifier1.predict(X_test)\n",
    "\n",
    "# Making the Confusion Matrix\n",
    "from sklearn.metrics import confusion_matrix\n",
    "cm = confusion_matrix(y_test, y_pred_LR)\n",
    "\n",
    "accuracy = 0\n",
    "for i in range(len(cm)):\n",
    "    for j in range(len(cm)):\n",
    "        if(i == j):\n",
    "            accuracy = accuracy + cm[i][j]\n",
    "accuracy_LR = accuracy/ len(y_test) * 100\n",
    "\n",
    "print(accuracy_LR)"
   ]
  },
  {
   "cell_type": "code",
   "execution_count": 135,
   "id": "6ae7b786-70ba-4216-bf2e-15475a359979",
   "metadata": {},
   "outputs": [
    {
     "name": "stdout",
     "output_type": "stream",
     "text": [
      "70.66666666666667\n"
     ]
    }
   ],
   "source": [
    "# Fitting DecisionTreeClassifier to the Training set\n",
    "from sklearn.tree import DecisionTreeClassifier\n",
    "classifier2 = DecisionTreeClassifier( criterion = 'entropy', random_state = 0)\n",
    "\n",
    "classifier2.fit(X_train, y_train)\n",
    "# Predicting the Test set results\n",
    "y_pred_DT = classifier2.predict(X_test)\n",
    "\n",
    "# Making the Confusion Matrix\n",
    "from sklearn.metrics import confusion_matrix\n",
    "cm = confusion_matrix(y_test, y_pred_DT)\n",
    "\n",
    "accuracy = 0\n",
    "for i in range(len(cm)):\n",
    "    for j in range(len(cm)):\n",
    "        if(i == j):\n",
    "            accuracy = accuracy + cm[i][j]\n",
    "accuracy_DT = accuracy/ len(y_test) * 100\n",
    "print(accuracy_DT)"
   ]
  },
  {
   "cell_type": "code",
   "execution_count": 136,
   "id": "9cfc5cbc-8b14-4908-8c8f-f1c44f31b45d",
   "metadata": {},
   "outputs": [],
   "source": [
    "# Fitting Naive Bayes to the Training set\n",
    "from sklearn.naive_bayes import GaussianNB\n",
    "from sklearn.naive_bayes import MultinomialNB\n",
    "from sklearn.naive_bayes import BernoulliNB\n",
    "classifier3 = GaussianNB()\n",
    "classifier5 = BernoulliNB()\n",
    "\n",
    "classifier3.fit(X_train, y_train)\n",
    "# Predicting the Test set results\n",
    "y_pred_GNB = classifier3.predict(X_test)\n",
    "\n",
    "# Making the Confusion Matrix\n",
    "from sklearn.metrics import confusion_matrix\n",
    "cm = confusion_matrix(y_test, y_pred_GNB)\n",
    "\n",
    "accuracy = 0\n",
    "for i in range(len(cm)):\n",
    "    for j in range(len(cm)):\n",
    "        if(i == j):\n",
    "            accuracy = accuracy + cm[i][j]\n",
    "accuracy_GNB = accuracy/ len(y_test) * 100"
   ]
  },
  {
   "cell_type": "code",
   "execution_count": 137,
   "id": "0bac09d6-115a-4121-a975-fcfbbfe44426",
   "metadata": {},
   "outputs": [],
   "source": [
    "#classifier4 = MultinomialNB() # do no standartize\n",
    "\n",
    "#classifier4.fit(X_train, y_train)\n",
    "# Predicting the Test set results\n",
    "#y_pred_MNB = classifier4.predict(X_test)\n",
    "\n",
    "# Making the Confusion Matrix\n",
    "#from sklearn.metrics import confusion_matrix\n",
    "#cm = confusion_matrix(y_test, y_pred_MNB)\n",
    "\n",
    "#accuracy = 0\n",
    "#for i in range(len(cm)):\n",
    "#    for j in range(len(cm)):\n",
    "#        if(i == j):\n",
    "#            accuracy = accuracy + cm[i][j]\n",
    "#accuracy_MNB = accuracy/ len(y_test) * 100\n",
    "#print(accuracy_MNB)"
   ]
  },
  {
   "cell_type": "code",
   "execution_count": 138,
   "id": "1690e5fc-c699-4cb2-adee-ebcb28dd1ac5",
   "metadata": {},
   "outputs": [
    {
     "name": "stdout",
     "output_type": "stream",
     "text": [
      "65.33333333333333\n",
      "66.66666666666666\n"
     ]
    }
   ],
   "source": [
    "classifier5.fit(X_train, y_train)\n",
    "# Predicting the Test set results\n",
    "y_pred_BNB = classifier5.predict(X_test)\n",
    "\n",
    "# Making the Confusion Matrix\n",
    "from sklearn.metrics import confusion_matrix\n",
    "cm = confusion_matrix(y_test, y_pred_BNB)\n",
    "\n",
    "accuracy = 0\n",
    "for i in range(len(cm)):\n",
    "    for j in range(len(cm)):\n",
    "        if(i == j):\n",
    "            accuracy = accuracy + cm[i][j]\n",
    "accuracy_BNB = accuracy/ len(y_test) * 100\n",
    "print(accuracy_GNB)\n",
    "print(accuracy_BNB)\n"
   ]
  },
  {
   "cell_type": "code",
   "execution_count": 139,
   "id": "f704ade0-7de4-4361-afa1-0391619e30b8",
   "metadata": {},
   "outputs": [
    {
     "name": "stdout",
     "output_type": "stream",
     "text": [
      "73.33333333333333\n"
     ]
    }
   ],
   "source": [
    "# Fitting Random Forest Classification to the Training set\n",
    "from sklearn.ensemble import RandomForestClassifier\n",
    "classifier6 = RandomForestClassifier( n_estimators = 10, criterion = 'entropy', random_state = 0, n_jobs = -1)\n",
    "\n",
    "classifier6.fit(X_train, y_train)\n",
    "# Predicting the Test set results\n",
    "y_pred_RandF = classifier6.predict(X_test)\n",
    "\n",
    "# Making the Confusion Matrix\n",
    "from sklearn.metrics import confusion_matrix\n",
    "cm = confusion_matrix(y_test, y_pred_RandF)\n",
    "\n",
    "accuracy = 0\n",
    "for i in range(len(cm)):\n",
    "    for j in range(len(cm)):\n",
    "        if(i == j):\n",
    "            accuracy = accuracy + cm[i][j]\n",
    "accuracy_RandF = accuracy/ len(y_test) * 100\n",
    "print(accuracy_RandF)"
   ]
  },
  {
   "cell_type": "code",
   "execution_count": 140,
   "id": "e1b34780-052c-48bb-9c29-b809f50e8273",
   "metadata": {},
   "outputs": [
    {
     "name": "stdout",
     "output_type": "stream",
     "text": [
      "66.66666666666666\n"
     ]
    },
    {
     "name": "stderr",
     "output_type": "stream",
     "text": [
      "C:\\Users\\kksan\\anaconda3\\Lib\\site-packages\\joblib\\externals\\loky\\backend\\context.py:136: UserWarning: Could not find the number of physical cores for the following reason:\n",
      "[WinError 2] The system cannot find the file specified\n",
      "Returning the number of logical cores instead. You can silence this warning by setting LOKY_MAX_CPU_COUNT to the number of cores you want to use.\n",
      "  warnings.warn(\n",
      "  File \"C:\\Users\\kksan\\anaconda3\\Lib\\site-packages\\joblib\\externals\\loky\\backend\\context.py\", line 257, in _count_physical_cores\n",
      "    cpu_info = subprocess.run(\n",
      "               ^^^^^^^^^^^^^^^\n",
      "  File \"C:\\Users\\kksan\\anaconda3\\Lib\\subprocess.py\", line 548, in run\n",
      "    with Popen(*popenargs, **kwargs) as process:\n",
      "         ^^^^^^^^^^^^^^^^^^^^^^^^^^^\n",
      "  File \"C:\\Users\\kksan\\anaconda3\\Lib\\subprocess.py\", line 1026, in __init__\n",
      "    self._execute_child(args, executable, preexec_fn, close_fds,\n",
      "  File \"C:\\Users\\kksan\\anaconda3\\Lib\\subprocess.py\", line 1538, in _execute_child\n",
      "    hp, ht, pid, tid = _winapi.CreateProcess(executable, args,\n",
      "                       ^^^^^^^^^^^^^^^^^^^^^^^^^^^^^^^^^^^^^^^\n"
     ]
    }
   ],
   "source": [
    "# Fitting  K-Nearest Neighbors K-NN to the Training set\n",
    "from sklearn.neighbors import KNeighborsClassifier\n",
    "classifier7 = KNeighborsClassifier(n_neighbors = 5, metric = 'minkowski', p = 2)\n",
    "\n",
    "classifier7.fit(X_train, y_train)\n",
    "# Predicting the Test set results\n",
    "y_pred_KNN = classifier7.predict(X_test)\n",
    "\n",
    "# Making the Confusion Matrix\n",
    "from sklearn.metrics import confusion_matrix\n",
    "cm = confusion_matrix(y_test, y_pred_KNN)\n",
    "\n",
    "accuracy = 0\n",
    "for i in range(len(cm)):\n",
    "    for j in range(len(cm)):\n",
    "        if(i == j):\n",
    "            accuracy = accuracy + cm[i][j]\n",
    "accuracy_KNN = accuracy/ len(y_test) * 100\n",
    "print(accuracy_KNN)"
   ]
  },
  {
   "cell_type": "code",
   "execution_count": 141,
   "id": "4e217b28-b9db-46cb-a47c-61dbf8ddbef3",
   "metadata": {},
   "outputs": [],
   "source": [
    "import matplotlib.pyplot as plt\n",
    "import numpy as np\n",
    "\n",
    "# Perform cross-validation\n",
    "from sklearn.model_selection import cross_val_score\n",
    "classifiers = {\n",
    "    \"Logistic Regression\": classifier1,\n",
    "    #\"SVM (Linear Kernel)\": classifier9,\n",
    "    \"K-Nearest Neighbors\": classifier7,\n",
    "    \"Random Forest\": classifier6,\n",
    "    \"GaussianNB\": classifier3,\n",
    "    \"BernoulliNB\": classifier5,\n",
    "    \"Decision Tree\": classifier2\n",
    "} \n",
    "results = {}\n",
    "std_devs = {}\n",
    "cv_accuracies = {}\n",
    "conf_matrices_cv = {}\n",
    "for name, model in classifiers.items():\n",
    "    try:\n",
    "        scores = cross_val_score(estimator=model, X=X_train, y=y_train, cv=10, n_jobs=-1)\n",
    "        results[name] = scores.mean() * 100  # Mean accuracy\n",
    "        std_devs[name] = scores.std() * 100  # Std deviation\n",
    "        cv_accuracies[name] = results[name]\n",
    "\n",
    "        # For confusion matrix from CV: fit on whole training set & predict test set\n",
    "        model.fit(X_train, y_train)\n",
    "        y_pred_cv = model.predict(X_test)\n",
    "        conf_matrices_cv[name] = confusion_matrix(y_test, y_pred_cv)\n",
    "\n",
    "    except Exception as e:\n",
    "        print(f\"{name} skipped in CV: {e}\")\n",
    "\n",
    "#for name, model in classifiers.items():\n",
    " #   scores = cross_val_score(estimator=model, X=X_train, y=y_train, cv=10, n_jobs=-1)\n",
    " #   results[name] = scores.mean() * 100  # Mean accuracy\n",
    " #   std_devs[name] = scores.std() * 100  # Std deviation\n",
    "\n"
   ]
  },
  {
   "cell_type": "code",
   "execution_count": 142,
   "id": "2d0bc845-0d0b-4ceb-a946-1d944662a0d0",
   "metadata": {},
   "outputs": [
    {
     "data": {
      "image/png": "[encoded data removed]",
      "text/plain": [
       "<Figure size 1000x400 with 1 Axes>"
      ]
     },
     "metadata": {},
     "output_type": "display_data"
    }
   ],
   "source": [
    "plt.figure(figsize=(10, 4))\n",
    "plt.bar(results.keys(), results.values(), yerr=std_devs.values(), capsize=5, color='skyblue')\n",
    "plt.ylabel(\"Accuracy (%)\")\n",
    "plt.title(\"Classifier Comparison (10-Fold Cross Validation)\")\n",
    "plt.xticks(rotation=20)\n",
    "plt.grid(axis='y')\n",
    "plt.tight_layout()\n",
    "plt.show()\n",
    "\n",
    "\n",
    "\n",
    "TP = np.diag(cm)\n",
    "FP = np.sum(cm, axis=0) - TP\n",
    "FN = np.sum(cm, axis=1) - TP\n",
    "\n",
    "num_classes = len(cm)\n",
    "TN = []\n",
    "for i in range(num_classes):\n",
    "    temp = np.delete(cm, i, 0)    # delete ith row\n",
    "    temp = np.delete(temp, i, 1)  # delete ith column\n",
    "    TN.append(sum(sum(temp)))"
   ]
  },
  {
   "cell_type": "code",
   "execution_count": 143,
   "id": "18036512-81f7-41c9-9021-b7b6690aaf5a",
   "metadata": {},
   "outputs": [
    {
     "name": "stdout",
     "output_type": "stream",
     "text": [
      "\n",
      "Classifier Accuracies (10-Fold Cross Validation):\n",
      "Logistic Regression: 80.45%\n",
      "K-Nearest Neighbors: 78.68%\n",
      "Random Forest: 81.80%\n",
      "GaussianNB: 75.14%\n",
      "BernoulliNB: 76.88%\n",
      "Decision Tree: 82.25%\n"
     ]
    }
   ],
   "source": [
    "#  Print all classifier accuracies\n",
    "print(\"\\nClassifier Accuracies (10-Fold Cross Validation):\")\n",
    "for name, acc in results.items():\n",
    "    print(f\"{name}: {acc:.2f}%\")"
   ]
  },
  {
   "cell_type": "code",
   "execution_count": 144,
   "id": "a9a43319-da3f-41b5-be8d-0c124ac7c11d",
   "metadata": {},
   "outputs": [
    {
     "data": {
      "image/png": "[encoded data removed]",
      "text/plain": [
       "<Figure size 640x480 with 1 Axes>"
      ]
     },
     "metadata": {},
     "output_type": "display_data"
    }
   ],
   "source": [
    "# Pick one classifier for the fold accuracy plot\n",
    "model_name = \"Random Forest\"\n",
    "model = classifiers[model_name]\n",
    "scores = cross_val_score(estimator=model, X=X_train, y=y_train, cv=10, n_jobs=-1)\n",
    "\n",
    "accuracies = np.array(scores)\n",
    "accuracy_by_10fold_cv = accuracies.mean() * 100\n",
    "std = accuracies.std() * 100\n",
    "\n",
    "# Plot fold accuracies\n",
    "plt.plot(range(1, 11), accuracies * 100, marker='o', linestyle='-', color='teal', label='Fold Accuracy')\n",
    "plt.axhline(y=accuracy_by_10fold_cv, color='red', linestyle='--', label=f'Mean Accuracy ({accuracy_by_10fold_cv:.2f}%)')\n",
    "plt.fill_between(range(1, 11),\n",
    "                 accuracies * 100 - std,\n",
    "                 accuracies * 100 + std,\n",
    "                 color='gray', alpha=0.25, label=f'±1 Std ({std:.2f}%)')\n",
    "\n",
    "plt.title(f'10-Fold Cross Validation Accuracy - {model_name}')\n",
    "plt.xlabel('Fold Number')\n",
    "plt.ylabel('Accuracy (%)')\n",
    "plt.xticks(range(1, 11))\n",
    "plt.legend()\n",
    "plt.grid(True)\n",
    "plt.tight_layout()\n",
    "plt.show()"
   ]
  },
  {
   "cell_type": "code",
   "execution_count": 145,
   "id": "ae940faf-b87c-47ee-82be-38cc3dd968f0",
   "metadata": {},
   "outputs": [
    {
     "data": {
      "image/png": "[encoded data removed]",
      "text/plain": [
       "<Figure size 1000x400 with 1 Axes>"
      ]
     },
     "metadata": {},
     "output_type": "display_data"
    }
   ],
   "source": [
    "classes = [f'Class {i}' for i in range(num_classes)]\n",
    "\n",
    "x = np.arange(len(classes))\n",
    "width = 0.25\n",
    "\n",
    "plt.figure(figsize=(10, 4))\n",
    "plt.bar(x - width*1.5, TP, width, label='TP', color='green')\n",
    "plt.bar(x - width/2, FP, width, label='FP', color='red')\n",
    "plt.bar(x + width/2, FN, width, label='FN', color='orange')\n",
    "plt.bar(x + width*1.5, TN, width, label='TN', color='blue')\n",
    "\n",
    "plt.xlabel('Classes')\n",
    "plt.ylabel('Count')\n",
    "plt.title('Confusion Matrix Components per Class')\n",
    "plt.xticks(x, classes)\n",
    "plt.legend()\n",
    "plt.grid(True)\n",
    "plt.tight_layout()\n",
    "plt.show()\n"
   ]
  },
  {
   "cell_type": "code",
   "execution_count": 146,
   "id": "82da551f-80d5-45ff-9836-8d83f4f3a7f1",
   "metadata": {},
   "outputs": [
    {
     "data": {
      "image/png": "[encoded data removed]",
      "text/plain": [
       "<Figure size 800x600 with 1 Axes>"
      ]
     },
     "metadata": {},
     "output_type": "display_data"
    }
   ],
   "source": [
    "from sklearn.metrics import roc_curve, auc\n",
    "from sklearn.preprocessing import label_binarize, LabelEncoder\n",
    "from sklearn.multiclass import OneVsRestClassifier\n",
    "\n",
    "\n",
    "le = LabelEncoder()\n",
    "y_train = le.fit_transform(y_train)\n",
    "y_test = le.transform(y_test)\n",
    "\n",
    "plt.figure(figsize=(8, 6))\n",
    "accuracies = {}\n",
    "roc_accuracies = {}\n",
    "\n",
    "for name, clf in classifiers.items():\n",
    "    try:\n",
    "        clf.fit(X_train, y_train)\n",
    "        y_score = clf.predict_proba(X_test)[:, 1]  # probability of positive class\n",
    "        fpr, tpr, _ = roc_curve(y_test, y_score)\n",
    "        roc_auc = auc(fpr, tpr)*100\n",
    "        plt.plot(fpr, tpr, label=f\"{name} (AUC = {roc_auc :.2f})\")\n",
    "        roc_accuracies[name] = roc_auc  # ✅ dictionary entry\n",
    "\n",
    "    except Exception as e:\n",
    "        print(f\"{name} skipped: {e}\")\n",
    "        \n",
    "\n",
    "# Plot formatting\n",
    "plt.plot([0, 1], [0, 1], color='gray', linestyle='--')  # Diagonal line\n",
    "plt.xlim([0.0, 1.0])\n",
    "plt.ylim([0.0, 1.05])\n",
    "plt.xlabel('False Positive Rate')\n",
    "plt.ylabel('True Positive Rate')\n",
    "plt.title('ROC Curves for Multiple Classifiers')\n",
    "plt.legend(loc=\"lower right\")\n",
    "plt.grid(True)\n",
    "plt.tight_layout()\n",
    "plt.show()"
   ]
  },
  {
   "cell_type": "code",
   "execution_count": 147,
   "id": "bb97ca73-ec2b-40d8-889b-69f0940dbbf8",
   "metadata": {},
   "outputs": [
    {
     "name": "stdout",
     "output_type": "stream",
     "text": [
      "\n",
      "Classifier Accuracies on Test Set:\n",
      "Logistic Regression: 84.00%\n",
      "K-Nearest Neighbors: 57.44%\n",
      "Random Forest: 80.60%\n",
      "GaussianNB: 55.00%\n",
      "BernoulliNB: 79.12%\n",
      "Decision Tree: 60.00%\n"
     ]
    }
   ],
   "source": [
    "#  Print all classifier accuracies\n",
    "print(\"\\nClassifier Accuracies on Test Set:\")\n",
    "for name, acc in roc_accuracies.items():\n",
    "    print(f\"{name}: {acc:.2f}%\")"
   ]
  },
  {
   "cell_type": "code",
   "execution_count": 148,
   "id": "b0ab74d5-2ce7-4067-9b57-e4edd3d1410d",
   "metadata": {},
   "outputs": [
    {
     "name": "stdout",
     "output_type": "stream",
     "text": [
      "\n",
      "🔍 Accuracy Comparison:\n",
      "\n",
      "Classifier                  Test Accuracy (%)     CV Accuracy (%)\n",
      "-----------------------------------------------------------------\n",
      "Logistic Regression                     84.00               80.45\n",
      "K-Nearest Neighbors                     57.44               78.68\n",
      "Random Forest                           80.60               81.80\n",
      "GaussianNB                              55.00               75.14\n",
      "BernoulliNB                             79.12               76.88\n",
      "Decision Tree                           60.00               82.25\n"
     ]
    }
   ],
   "source": [
    "\n",
    "print(\"\\n🔍 Accuracy Comparison:\\n\")\n",
    "print(f\"{'Classifier':<25}{'Test Accuracy (%)':>20}{'CV Accuracy (%)':>20}\")\n",
    "print(\"-\" * 65)\n",
    "for name in classifiers:\n",
    "    test_acc = roc_accuracies.get(name, 0) \n",
    "    cv_acc = cv_accuracies.get(name, 0)\n",
    "    print(f\"{name:<25}{test_acc:>20.2f}{cv_acc:>20.2f}\")\n"
   ]
  },
  {
   "cell_type": "code",
   "execution_count": 149,
   "id": "e0a4e8a0-2799-48c9-8296-36f3a936dd00",
   "metadata": {},
   "outputs": [
    {
     "data": {
      "image/png": "[encoded data removed]",
      "text/plain": [
       "<Figure size 1000x600 with 1 Axes>"
      ]
     },
     "metadata": {},
     "output_type": "display_data"
    }
   ],
   "source": [
    "# Prepare data for plotting\n",
    "labels = classifiers\n",
    "test_accuracies = [roc_accuracies[name] for name in labels]\n",
    "cv_accuracies = [cv_accuracies[name] for name in labels]\n",
    "\n",
    "x = np.arange(len(labels))  # the label locations\n",
    "width = 0.35  # the width of the bars\n",
    "\n",
    "# Create the bar plot\n",
    "fig, ax = plt.subplots(figsize=(10, 6))\n",
    "bars1 = ax.bar(x - width/2, test_accuracies, width, label='Test Accuracy (%)', color='blue')\n",
    "bars2 = ax.bar(x + width/2, cv_accuracies, width, label='CV Accuracy (%)', color='orange')\n",
    "\n",
    "# Add some text for labels, title and custom x-axis tick labels, etc.\n",
    "ax.set_xlabel('Classifiers')\n",
    "ax.set_ylabel('Accuracy (%)')\n",
    "ax.set_title('Accuracy Comparison of Classifiers')\n",
    "ax.set_xticks(x)\n",
    "ax.set_xticklabels(labels)\n",
    "ax.legend()\n",
    "\n",
    "# Adding value labels on top of the bars\n",
    "def add_value_labels(bars):\n",
    "    for bar in bars:\n",
    "        height = bar.get_height()\n",
    "        ax.annotate(f'{height:.2f}',\n",
    "                    xy=(bar.get_x() + bar.get_width() / 2, height),\n",
    "                    xytext=(0, 3),  # 3 points vertical offset\n",
    "                    textcoords=\"offset points\",\n",
    "                    ha='center', va='bottom')\n",
    "\n",
    "add_value_labels(bars1)\n",
    "add_value_labels(bars2)\n",
    "\n",
    "# Show the plot\n",
    "plt.tight_layout()\n",
    "plt.show()"
   ]
  },
  {
   "cell_type": "code",
   "execution_count": 150,
   "id": "f99d3294-4444-4587-ab01-50e44f062a62",
   "metadata": {},
   "outputs": [
    {
     "data": {
      "image/png": "[encoded data removed]",
      "text/plain": [
       "<Figure size 800x400 with 1 Axes>"
      ]
     },
     "metadata": {},
     "output_type": "display_data"
    }
   ],
   "source": [
    "\n",
    "\n",
    "from wordcloud import WordCloud\n",
    "import matplotlib.pyplot as plt\n",
    "\n",
    "# Assuming OW_in_corpus is a list of opinion words\n",
    "OW_in_corpus = [\"happy\", \"good\", \"bad\", \"sad\", \"excellent\", \"poor\", \"great\", \"terrible\", \"amazing\", \"disappointed\"]\n",
    "\n",
    "# Convert the list into a string (WordCloud expects a single string)\n",
    "text = ' '.join(OW_in_corpus)\n",
    "\n",
    "# Create a WordCloud object\n",
    "wordcloud = WordCloud(width=800, height=400, background_color='white').generate(text)\n",
    "\n",
    "# Plot the word cloud\n",
    "plt.figure(figsize=(8,4))\n",
    "plt.imshow(wordcloud, interpolation='bilinear')\n",
    "plt.axis(\"off\")\n",
    "plt.title(\"Word Cloud of Opinion Words\", fontsize=16)\n",
    "plt.show()\n"
   ]
  },
  {
   "cell_type": "code",
   "execution_count": 151,
   "id": "32f012dc-75cf-4aec-86d7-818cfcc4f58f",
   "metadata": {},
   "outputs": [
    {
     "name": "stdout",
     "output_type": "stream",
     "text": [
      "\n",
      "\n",
      "OpinionWords:\n",
      " ['happy', 'good', 'bad', 'sad', 'excellent', 'poor', 'great', 'terrible', 'amazing', 'disappointed']\n"
     ]
    }
   ],
   "source": [
    "print('\\n\\nOpinionWords:\\n', OW_in_corpus)"
   ]
  },
  {
   "cell_type": "code",
   "execution_count": null,
   "id": "0924ede1-94d2-43fb-95c2-d0d29b83ddb9",
   "metadata": {},
   "outputs": [],
   "source": []
  },
  {
   "cell_type": "code",
   "execution_count": null,
   "id": "a938773c-749f-461f-b362-ceea7ca05853",
   "metadata": {},
   "outputs": [],
   "source": []
  },
  {
   "cell_type": "code",
   "execution_count": null,
   "id": "074c3652-e3f5-4271-9d81-6b3f345c292f",
   "metadata": {},
   "outputs": [],
   "source": []
  },
  {
   "cell_type": "code",
   "execution_count": null,
   "id": "b81f230b-358a-41d2-8b3f-a96838ec872d",
   "metadata": {},
   "outputs": [],
   "source": []
  },
  {
   "cell_type": "code",
   "execution_count": null,
   "id": "232097bb-ff3b-4b74-b398-8f077b3563cd",
   "metadata": {},
   "outputs": [],
   "source": []
  },
  {
   "cell_type": "code",
   "execution_count": null,
   "id": "8a852e78-cc28-405a-a70e-923d00aded35",
   "metadata": {},
   "outputs": [],
   "source": []
  },
  {
   "cell_type": "code",
   "execution_count": null,
   "id": "a9092358-2b7c-439f-8162-4075e1675541",
   "metadata": {},
   "outputs": [],
   "source": []
  },
  {
   "cell_type": "code",
   "execution_count": null,
   "id": "f5cfdc9b-a330-487a-a006-52ba715ca566",
   "metadata": {},
   "outputs": [],
   "source": []
  },
  {
   "cell_type": "code",
   "execution_count": null,
   "id": "70d1f482-a933-4f01-a37c-9cf9326950ba",
   "metadata": {},
   "outputs": [],
   "source": []
  },
  {
   "cell_type": "code",
   "execution_count": null,
   "id": "aee0cf63-b752-4c23-b443-383b50fd879c",
   "metadata": {},
   "outputs": [],
   "source": []
  },
  {
   "cell_type": "code",
   "execution_count": null,
   "id": "3c8478a8-0291-4df6-8cc8-afe1a26c25ce",
   "metadata": {},
   "outputs": [],
   "source": []
  },
  {
   "cell_type": "code",
   "execution_count": null,
   "id": "abd5fc78-40b8-4812-a590-525ef4bc5664",
   "metadata": {},
   "outputs": [],
   "source": []
  },
  {
   "cell_type": "code",
   "execution_count": null,
   "id": "19236b3b-d1f1-4aba-af45-77baa9f49f6f",
   "metadata": {},
   "outputs": [],
   "source": []
  },
  {
   "cell_type": "code",
   "execution_count": null,
   "id": "03d359d8-2896-4036-9073-6067f91110b4",
   "metadata": {},
   "outputs": [],
   "source": []
  },
  {
   "cell_type": "code",
   "execution_count": null,
   "id": "b283f914-fc39-486a-a64a-9dbc8101ee14",
   "metadata": {},
   "outputs": [],
   "source": []
  },
  {
   "cell_type": "code",
   "execution_count": null,
   "id": "70d799ea-898f-43e8-8c91-cdb3f0f37ce8",
   "metadata": {},
   "outputs": [],
   "source": []
  },
  {
   "cell_type": "code",
   "execution_count": null,
   "id": "5e216c11-2d9a-4bfd-97f6-a7759bb7d37a",
   "metadata": {},
   "outputs": [],
   "source": []
  },
  {
   "cell_type": "code",
   "execution_count": null,
   "id": "ecdc0ecf-c915-41e6-a977-40462ebdb7f9",
   "metadata": {},
   "outputs": [],
   "source": []
  },
  {
   "cell_type": "code",
   "execution_count": null,
   "id": "9f27b0c8-5609-412e-b97b-16e267a54e65",
   "metadata": {},
   "outputs": [],
   "source": []
  },
  {
   "cell_type": "code",
   "execution_count": null,
   "id": "5872bc47-13ff-45bb-9e2d-be0412f40676",
   "metadata": {},
   "outputs": [],
   "source": []
  },
  {
   "cell_type": "code",
   "execution_count": null,
   "id": "a5614f24-7113-42f5-9131-ccd7bc52ffde",
   "metadata": {},
   "outputs": [],
   "source": []
  },
  {
   "cell_type": "code",
   "execution_count": null,
   "id": "d20d8a70-f427-4083-8eb0-01ed9e1e5f54",
   "metadata": {},
   "outputs": [],
   "source": []
  }
 ],
 "metadata": {
  "kernelspec": {
   "display_name": "Python 3 (ipykernel)",
   "language": "python",
   "name": "python3"
  },
  "language_info": {
   "codemirror_mode": {
    "name": "ipython",
    "version": 3
   },
   "file_extension": ".py",
   "mimetype": "text/x-python",
   "name": "python",
   "nbconvert_exporter": "python",
   "pygments_lexer": "ipython3",
   "version": "3.12.7"
  }
 },
 "nbformat": 4,
 "nbformat_minor": 5
}
